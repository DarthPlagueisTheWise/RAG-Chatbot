{
 "cells": [
  {
   "cell_type": "markdown",
   "metadata": {},
   "source": [
    "# A simple RAG application using open-source models"
   ]
  },
  {
   "cell_type": "code",
   "execution_count": 1,
   "metadata": {},
   "outputs": [
    {
     "name": "stdout",
     "output_type": "stream",
     "text": [
      "Defaulting to user installation because normal site-packages is not writeable\n",
      "Requirement already satisfied: langchain in c:\\users\\vedch\\appdata\\local\\packages\\pythonsoftwarefoundation.python.3.12_qbz5n2kfra8p0\\localcache\\local-packages\\python312\\site-packages (from -r requirements.txt (line 1)) (0.2.1)\n",
      "Requirement already satisfied: langchain-openai in c:\\users\\vedch\\appdata\\local\\packages\\pythonsoftwarefoundation.python.3.12_qbz5n2kfra8p0\\localcache\\local-packages\\python312\\site-packages (from -r requirements.txt (line 2)) (0.1.7)\n",
      "Requirement already satisfied: langchain_pinecone in c:\\users\\vedch\\appdata\\local\\packages\\pythonsoftwarefoundation.python.3.12_qbz5n2kfra8p0\\localcache\\local-packages\\python312\\site-packages (from -r requirements.txt (line 3)) (0.1.1)\n",
      "Requirement already satisfied: docarray in c:\\users\\vedch\\appdata\\local\\packages\\pythonsoftwarefoundation.python.3.12_qbz5n2kfra8p0\\localcache\\local-packages\\python312\\site-packages (from -r requirements.txt (line 5)) (0.40.0)\n",
      "Requirement already satisfied: pydantic==1.10.8 in c:\\users\\vedch\\appdata\\local\\packages\\pythonsoftwarefoundation.python.3.12_qbz5n2kfra8p0\\localcache\\local-packages\\python312\\site-packages (from -r requirements.txt (line 6)) (1.10.8)\n",
      "Requirement already satisfied: pytube in c:\\users\\vedch\\appdata\\local\\packages\\pythonsoftwarefoundation.python.3.12_qbz5n2kfra8p0\\localcache\\local-packages\\python312\\site-packages (from -r requirements.txt (line 7)) (15.0.0)\n",
      "Requirement already satisfied: python-dotenv in c:\\users\\vedch\\appdata\\local\\packages\\pythonsoftwarefoundation.python.3.12_qbz5n2kfra8p0\\localcache\\local-packages\\python312\\site-packages (from -r requirements.txt (line 8)) (1.0.1)\n",
      "Requirement already satisfied: tiktoken in c:\\users\\vedch\\appdata\\local\\packages\\pythonsoftwarefoundation.python.3.12_qbz5n2kfra8p0\\localcache\\local-packages\\python312\\site-packages (from -r requirements.txt (line 9)) (0.7.0)\n",
      "Requirement already satisfied: pinecone-client in c:\\users\\vedch\\appdata\\local\\packages\\pythonsoftwarefoundation.python.3.12_qbz5n2kfra8p0\\localcache\\local-packages\\python312\\site-packages (from -r requirements.txt (line 10)) (3.2.2)\n",
      "Requirement already satisfied: scikit-learn in c:\\users\\vedch\\appdata\\local\\packages\\pythonsoftwarefoundation.python.3.12_qbz5n2kfra8p0\\localcache\\local-packages\\python312\\site-packages (from -r requirements.txt (line 11)) (1.5.0)\n",
      "Requirement already satisfied: ruff in c:\\users\\vedch\\appdata\\local\\packages\\pythonsoftwarefoundation.python.3.12_qbz5n2kfra8p0\\localcache\\local-packages\\python312\\site-packages (from -r requirements.txt (line 12)) (0.4.5)\n",
      "Requirement already satisfied: pypdf in c:\\users\\vedch\\appdata\\local\\packages\\pythonsoftwarefoundation.python.3.12_qbz5n2kfra8p0\\localcache\\local-packages\\python312\\site-packages (from -r requirements.txt (line 13)) (4.2.0)\n",
      "Requirement already satisfied: typing-extensions>=4.2.0 in c:\\users\\vedch\\appdata\\local\\packages\\pythonsoftwarefoundation.python.3.12_qbz5n2kfra8p0\\localcache\\local-packages\\python312\\site-packages (from pydantic==1.10.8->-r requirements.txt (line 6)) (4.11.0)\n",
      "Requirement already satisfied: PyYAML>=5.3 in c:\\users\\vedch\\appdata\\local\\packages\\pythonsoftwarefoundation.python.3.12_qbz5n2kfra8p0\\localcache\\local-packages\\python312\\site-packages (from langchain->-r requirements.txt (line 1)) (6.0.1)\n",
      "Requirement already satisfied: SQLAlchemy<3,>=1.4 in c:\\users\\vedch\\appdata\\local\\packages\\pythonsoftwarefoundation.python.3.12_qbz5n2kfra8p0\\localcache\\local-packages\\python312\\site-packages (from langchain->-r requirements.txt (line 1)) (2.0.30)\n",
      "Requirement already satisfied: aiohttp<4.0.0,>=3.8.3 in c:\\users\\vedch\\appdata\\local\\packages\\pythonsoftwarefoundation.python.3.12_qbz5n2kfra8p0\\localcache\\local-packages\\python312\\site-packages (from langchain->-r requirements.txt (line 1)) (3.9.5)\n",
      "Requirement already satisfied: langchain-core<0.3.0,>=0.2.0 in c:\\users\\vedch\\appdata\\local\\packages\\pythonsoftwarefoundation.python.3.12_qbz5n2kfra8p0\\localcache\\local-packages\\python312\\site-packages (from langchain->-r requirements.txt (line 1)) (0.2.1)\n",
      "Requirement already satisfied: langchain-text-splitters<0.3.0,>=0.2.0 in c:\\users\\vedch\\appdata\\local\\packages\\pythonsoftwarefoundation.python.3.12_qbz5n2kfra8p0\\localcache\\local-packages\\python312\\site-packages (from langchain->-r requirements.txt (line 1)) (0.2.0)\n",
      "Requirement already satisfied: langsmith<0.2.0,>=0.1.17 in c:\\users\\vedch\\appdata\\local\\packages\\pythonsoftwarefoundation.python.3.12_qbz5n2kfra8p0\\localcache\\local-packages\\python312\\site-packages (from langchain->-r requirements.txt (line 1)) (0.1.62)\n",
      "Requirement already satisfied: numpy<2,>=1 in c:\\users\\vedch\\appdata\\local\\packages\\pythonsoftwarefoundation.python.3.12_qbz5n2kfra8p0\\localcache\\local-packages\\python312\\site-packages (from langchain->-r requirements.txt (line 1)) (1.26.4)\n",
      "Requirement already satisfied: requests<3,>=2 in c:\\users\\vedch\\appdata\\local\\packages\\pythonsoftwarefoundation.python.3.12_qbz5n2kfra8p0\\localcache\\local-packages\\python312\\site-packages (from langchain->-r requirements.txt (line 1)) (2.32.2)\n",
      "Requirement already satisfied: tenacity<9.0.0,>=8.1.0 in c:\\users\\vedch\\appdata\\local\\packages\\pythonsoftwarefoundation.python.3.12_qbz5n2kfra8p0\\localcache\\local-packages\\python312\\site-packages (from langchain->-r requirements.txt (line 1)) (8.3.0)\n",
      "Requirement already satisfied: openai<2.0.0,>=1.24.0 in c:\\users\\vedch\\appdata\\local\\packages\\pythonsoftwarefoundation.python.3.12_qbz5n2kfra8p0\\localcache\\local-packages\\python312\\site-packages (from langchain-openai->-r requirements.txt (line 2)) (1.30.1)\n",
      "Collecting docarray (from -r requirements.txt (line 5))\n",
      "  Using cached docarray-0.32.1-py3-none-any.whl.metadata (30 kB)\n",
      "Requirement already satisfied: orjson>=3.8.2 in c:\\users\\vedch\\appdata\\local\\packages\\pythonsoftwarefoundation.python.3.12_qbz5n2kfra8p0\\localcache\\local-packages\\python312\\site-packages (from docarray->-r requirements.txt (line 5)) (3.10.3)\n",
      "Requirement already satisfied: rich>=13.1.0 in c:\\users\\vedch\\appdata\\local\\packages\\pythonsoftwarefoundation.python.3.12_qbz5n2kfra8p0\\localcache\\local-packages\\python312\\site-packages (from docarray->-r requirements.txt (line 5)) (13.7.1)\n",
      "Requirement already satisfied: types-requests>=2.28.11.6 in c:\\users\\vedch\\appdata\\local\\packages\\pythonsoftwarefoundation.python.3.12_qbz5n2kfra8p0\\localcache\\local-packages\\python312\\site-packages (from docarray->-r requirements.txt (line 5)) (2.32.0.20240523)\n",
      "Requirement already satisfied: typing-inspect>=0.8.0 in c:\\users\\vedch\\appdata\\local\\packages\\pythonsoftwarefoundation.python.3.12_qbz5n2kfra8p0\\localcache\\local-packages\\python312\\site-packages (from docarray->-r requirements.txt (line 5)) (0.9.0)\n",
      "Requirement already satisfied: regex>=2022.1.18 in c:\\users\\vedch\\appdata\\local\\packages\\pythonsoftwarefoundation.python.3.12_qbz5n2kfra8p0\\localcache\\local-packages\\python312\\site-packages (from tiktoken->-r requirements.txt (line 9)) (2024.5.15)\n",
      "Requirement already satisfied: certifi>=2019.11.17 in c:\\users\\vedch\\appdata\\local\\packages\\pythonsoftwarefoundation.python.3.12_qbz5n2kfra8p0\\localcache\\local-packages\\python312\\site-packages (from pinecone-client->-r requirements.txt (line 10)) (2024.2.2)\n",
      "Requirement already satisfied: tqdm>=4.64.1 in c:\\users\\vedch\\appdata\\local\\packages\\pythonsoftwarefoundation.python.3.12_qbz5n2kfra8p0\\localcache\\local-packages\\python312\\site-packages (from pinecone-client->-r requirements.txt (line 10)) (4.66.4)\n",
      "Requirement already satisfied: urllib3>=1.26.5 in c:\\users\\vedch\\appdata\\local\\packages\\pythonsoftwarefoundation.python.3.12_qbz5n2kfra8p0\\localcache\\local-packages\\python312\\site-packages (from pinecone-client->-r requirements.txt (line 10)) (2.2.1)\n",
      "Requirement already satisfied: scipy>=1.6.0 in c:\\users\\vedch\\appdata\\local\\packages\\pythonsoftwarefoundation.python.3.12_qbz5n2kfra8p0\\localcache\\local-packages\\python312\\site-packages (from scikit-learn->-r requirements.txt (line 11)) (1.13.1)\n",
      "Requirement already satisfied: joblib>=1.2.0 in c:\\users\\vedch\\appdata\\local\\packages\\pythonsoftwarefoundation.python.3.12_qbz5n2kfra8p0\\localcache\\local-packages\\python312\\site-packages (from scikit-learn->-r requirements.txt (line 11)) (1.4.2)\n",
      "Requirement already satisfied: threadpoolctl>=3.1.0 in c:\\users\\vedch\\appdata\\local\\packages\\pythonsoftwarefoundation.python.3.12_qbz5n2kfra8p0\\localcache\\local-packages\\python312\\site-packages (from scikit-learn->-r requirements.txt (line 11)) (3.5.0)\n",
      "Requirement already satisfied: aiosignal>=1.1.2 in c:\\users\\vedch\\appdata\\local\\packages\\pythonsoftwarefoundation.python.3.12_qbz5n2kfra8p0\\localcache\\local-packages\\python312\\site-packages (from aiohttp<4.0.0,>=3.8.3->langchain->-r requirements.txt (line 1)) (1.3.1)\n",
      "Requirement already satisfied: attrs>=17.3.0 in c:\\users\\vedch\\appdata\\local\\packages\\pythonsoftwarefoundation.python.3.12_qbz5n2kfra8p0\\localcache\\local-packages\\python312\\site-packages (from aiohttp<4.0.0,>=3.8.3->langchain->-r requirements.txt (line 1)) (23.2.0)\n",
      "Requirement already satisfied: frozenlist>=1.1.1 in c:\\users\\vedch\\appdata\\local\\packages\\pythonsoftwarefoundation.python.3.12_qbz5n2kfra8p0\\localcache\\local-packages\\python312\\site-packages (from aiohttp<4.0.0,>=3.8.3->langchain->-r requirements.txt (line 1)) (1.4.1)\n",
      "Requirement already satisfied: multidict<7.0,>=4.5 in c:\\users\\vedch\\appdata\\local\\packages\\pythonsoftwarefoundation.python.3.12_qbz5n2kfra8p0\\localcache\\local-packages\\python312\\site-packages (from aiohttp<4.0.0,>=3.8.3->langchain->-r requirements.txt (line 1)) (6.0.5)\n",
      "Requirement already satisfied: yarl<2.0,>=1.0 in c:\\users\\vedch\\appdata\\local\\packages\\pythonsoftwarefoundation.python.3.12_qbz5n2kfra8p0\\localcache\\local-packages\\python312\\site-packages (from aiohttp<4.0.0,>=3.8.3->langchain->-r requirements.txt (line 1)) (1.9.4)\n",
      "Requirement already satisfied: hnswlib>=0.6.2 in c:\\users\\vedch\\appdata\\local\\packages\\pythonsoftwarefoundation.python.3.12_qbz5n2kfra8p0\\localcache\\local-packages\\python312\\site-packages (from docarray[hnswlib]<0.33.0,>=0.32.0; extra == \"docarray\"->langchain[docarray]->-r requirements.txt (line 4)) (0.8.0)\n",
      "Requirement already satisfied: protobuf>=3.19.0 in c:\\users\\vedch\\appdata\\local\\packages\\pythonsoftwarefoundation.python.3.12_qbz5n2kfra8p0\\localcache\\local-packages\\python312\\site-packages (from docarray[hnswlib]<0.33.0,>=0.32.0; extra == \"docarray\"->langchain[docarray]->-r requirements.txt (line 4)) (5.26.1)\n",
      "Requirement already satisfied: jsonpatch<2.0,>=1.33 in c:\\users\\vedch\\appdata\\local\\packages\\pythonsoftwarefoundation.python.3.12_qbz5n2kfra8p0\\localcache\\local-packages\\python312\\site-packages (from langchain-core<0.3.0,>=0.2.0->langchain->-r requirements.txt (line 1)) (1.33)\n",
      "Requirement already satisfied: packaging<24.0,>=23.2 in c:\\users\\vedch\\appdata\\local\\packages\\pythonsoftwarefoundation.python.3.12_qbz5n2kfra8p0\\localcache\\local-packages\\python312\\site-packages (from langchain-core<0.3.0,>=0.2.0->langchain->-r requirements.txt (line 1)) (23.2)\n",
      "Requirement already satisfied: anyio<5,>=3.5.0 in c:\\users\\vedch\\appdata\\local\\packages\\pythonsoftwarefoundation.python.3.12_qbz5n2kfra8p0\\localcache\\local-packages\\python312\\site-packages (from openai<2.0.0,>=1.24.0->langchain-openai->-r requirements.txt (line 2)) (4.3.0)\n",
      "Requirement already satisfied: distro<2,>=1.7.0 in c:\\users\\vedch\\appdata\\local\\packages\\pythonsoftwarefoundation.python.3.12_qbz5n2kfra8p0\\localcache\\local-packages\\python312\\site-packages (from openai<2.0.0,>=1.24.0->langchain-openai->-r requirements.txt (line 2)) (1.9.0)\n",
      "Requirement already satisfied: httpx<1,>=0.23.0 in c:\\users\\vedch\\appdata\\local\\packages\\pythonsoftwarefoundation.python.3.12_qbz5n2kfra8p0\\localcache\\local-packages\\python312\\site-packages (from openai<2.0.0,>=1.24.0->langchain-openai->-r requirements.txt (line 2)) (0.27.0)\n",
      "Requirement already satisfied: sniffio in c:\\users\\vedch\\appdata\\local\\packages\\pythonsoftwarefoundation.python.3.12_qbz5n2kfra8p0\\localcache\\local-packages\\python312\\site-packages (from openai<2.0.0,>=1.24.0->langchain-openai->-r requirements.txt (line 2)) (1.3.1)\n",
      "Requirement already satisfied: charset-normalizer<4,>=2 in c:\\users\\vedch\\appdata\\local\\packages\\pythonsoftwarefoundation.python.3.12_qbz5n2kfra8p0\\localcache\\local-packages\\python312\\site-packages (from requests<3,>=2->langchain->-r requirements.txt (line 1)) (3.3.2)\n",
      "Requirement already satisfied: idna<4,>=2.5 in c:\\users\\vedch\\appdata\\local\\packages\\pythonsoftwarefoundation.python.3.12_qbz5n2kfra8p0\\localcache\\local-packages\\python312\\site-packages (from requests<3,>=2->langchain->-r requirements.txt (line 1)) (3.7)\n",
      "Requirement already satisfied: markdown-it-py>=2.2.0 in c:\\users\\vedch\\appdata\\local\\packages\\pythonsoftwarefoundation.python.3.12_qbz5n2kfra8p0\\localcache\\local-packages\\python312\\site-packages (from rich>=13.1.0->docarray->-r requirements.txt (line 5)) (3.0.0)\n",
      "Requirement already satisfied: pygments<3.0.0,>=2.13.0 in c:\\users\\vedch\\appdata\\local\\packages\\pythonsoftwarefoundation.python.3.12_qbz5n2kfra8p0\\localcache\\local-packages\\python312\\site-packages (from rich>=13.1.0->docarray->-r requirements.txt (line 5)) (2.18.0)\n",
      "Requirement already satisfied: greenlet!=0.4.17 in c:\\users\\vedch\\appdata\\local\\packages\\pythonsoftwarefoundation.python.3.12_qbz5n2kfra8p0\\localcache\\local-packages\\python312\\site-packages (from SQLAlchemy<3,>=1.4->langchain->-r requirements.txt (line 1)) (3.0.3)\n",
      "Requirement already satisfied: colorama in c:\\users\\vedch\\appdata\\local\\packages\\pythonsoftwarefoundation.python.3.12_qbz5n2kfra8p0\\localcache\\local-packages\\python312\\site-packages (from tqdm>=4.64.1->pinecone-client->-r requirements.txt (line 10)) (0.4.6)\n",
      "Requirement already satisfied: mypy-extensions>=0.3.0 in c:\\users\\vedch\\appdata\\local\\packages\\pythonsoftwarefoundation.python.3.12_qbz5n2kfra8p0\\localcache\\local-packages\\python312\\site-packages (from typing-inspect>=0.8.0->docarray->-r requirements.txt (line 5)) (1.0.0)\n",
      "Requirement already satisfied: httpcore==1.* in c:\\users\\vedch\\appdata\\local\\packages\\pythonsoftwarefoundation.python.3.12_qbz5n2kfra8p0\\localcache\\local-packages\\python312\\site-packages (from httpx<1,>=0.23.0->openai<2.0.0,>=1.24.0->langchain-openai->-r requirements.txt (line 2)) (1.0.5)\n",
      "Requirement already satisfied: h11<0.15,>=0.13 in c:\\users\\vedch\\appdata\\local\\packages\\pythonsoftwarefoundation.python.3.12_qbz5n2kfra8p0\\localcache\\local-packages\\python312\\site-packages (from httpcore==1.*->httpx<1,>=0.23.0->openai<2.0.0,>=1.24.0->langchain-openai->-r requirements.txt (line 2)) (0.14.0)\n",
      "Requirement already satisfied: jsonpointer>=1.9 in c:\\users\\vedch\\appdata\\local\\packages\\pythonsoftwarefoundation.python.3.12_qbz5n2kfra8p0\\localcache\\local-packages\\python312\\site-packages (from jsonpatch<2.0,>=1.33->langchain-core<0.3.0,>=0.2.0->langchain->-r requirements.txt (line 1)) (2.4)\n",
      "Requirement already satisfied: mdurl~=0.1 in c:\\users\\vedch\\appdata\\local\\packages\\pythonsoftwarefoundation.python.3.12_qbz5n2kfra8p0\\localcache\\local-packages\\python312\\site-packages (from markdown-it-py>=2.2.0->rich>=13.1.0->docarray->-r requirements.txt (line 5)) (0.1.2)\n",
      "Using cached docarray-0.32.1-py3-none-any.whl (215 kB)\n",
      "Installing collected packages: docarray\n",
      "  Attempting uninstall: docarray\n",
      "    Found existing installation: docarray 0.40.0\n",
      "    Uninstalling docarray-0.40.0:\n",
      "      Successfully uninstalled docarray-0.40.0\n",
      "Successfully installed docarray-0.32.1\n",
      "Note: you may need to restart the kernel to use updated packages.\n"
     ]
    }
   ],
   "source": [
    "#pip install -r requirements.txt "
   ]
  },
  {
   "cell_type": "code",
   "execution_count": 3,
   "metadata": {},
   "outputs": [
    {
     "name": "stdout",
     "output_type": "stream",
     "text": [
      "Collecting langchain_community\n",
      "  Downloading langchain_community-0.2.4-py3-none-any.whl.metadata (2.4 kB)\n",
      "Requirement already satisfied: PyYAML>=5.3 in c:\\users\\vedch\\anaconda3\\lib\\site-packages (from langchain_community) (6.0.1)\n",
      "Requirement already satisfied: SQLAlchemy<3,>=1.4 in c:\\users\\vedch\\anaconda3\\lib\\site-packages (from langchain_community) (2.0.25)\n",
      "Requirement already satisfied: aiohttp<4.0.0,>=3.8.3 in c:\\users\\vedch\\anaconda3\\lib\\site-packages (from langchain_community) (3.9.3)\n",
      "Collecting dataclasses-json<0.7,>=0.5.7 (from langchain_community)\n",
      "  Downloading dataclasses_json-0.6.7-py3-none-any.whl.metadata (25 kB)\n",
      "Collecting langchain<0.3.0,>=0.2.0 (from langchain_community)\n",
      "  Downloading langchain-0.2.4-py3-none-any.whl.metadata (7.0 kB)\n",
      "Collecting langchain-core<0.3.0,>=0.2.0 (from langchain_community)\n",
      "  Downloading langchain_core-0.2.6-py3-none-any.whl.metadata (5.8 kB)\n",
      "Collecting langsmith<0.2.0,>=0.1.0 (from langchain_community)\n",
      "  Downloading langsmith-0.1.77-py3-none-any.whl.metadata (13 kB)\n",
      "Requirement already satisfied: numpy<2,>=1 in c:\\users\\vedch\\anaconda3\\lib\\site-packages (from langchain_community) (1.26.4)\n",
      "Requirement already satisfied: requests<3,>=2 in c:\\users\\vedch\\anaconda3\\lib\\site-packages (from langchain_community) (2.31.0)\n",
      "Requirement already satisfied: tenacity<9.0.0,>=8.1.0 in c:\\users\\vedch\\anaconda3\\lib\\site-packages (from langchain_community) (8.2.2)\n",
      "Requirement already satisfied: aiosignal>=1.1.2 in c:\\users\\vedch\\anaconda3\\lib\\site-packages (from aiohttp<4.0.0,>=3.8.3->langchain_community) (1.2.0)\n",
      "Requirement already satisfied: attrs>=17.3.0 in c:\\users\\vedch\\anaconda3\\lib\\site-packages (from aiohttp<4.0.0,>=3.8.3->langchain_community) (23.1.0)\n",
      "Requirement already satisfied: frozenlist>=1.1.1 in c:\\users\\vedch\\anaconda3\\lib\\site-packages (from aiohttp<4.0.0,>=3.8.3->langchain_community) (1.4.0)\n",
      "Requirement already satisfied: multidict<7.0,>=4.5 in c:\\users\\vedch\\anaconda3\\lib\\site-packages (from aiohttp<4.0.0,>=3.8.3->langchain_community) (6.0.4)\n",
      "Requirement already satisfied: yarl<2.0,>=1.0 in c:\\users\\vedch\\anaconda3\\lib\\site-packages (from aiohttp<4.0.0,>=3.8.3->langchain_community) (1.9.3)\n",
      "Collecting marshmallow<4.0.0,>=3.18.0 (from dataclasses-json<0.7,>=0.5.7->langchain_community)\n",
      "  Downloading marshmallow-3.21.3-py3-none-any.whl.metadata (7.1 kB)\n",
      "Collecting typing-inspect<1,>=0.4.0 (from dataclasses-json<0.7,>=0.5.7->langchain_community)\n",
      "  Using cached typing_inspect-0.9.0-py3-none-any.whl.metadata (1.5 kB)\n",
      "Collecting langchain-text-splitters<0.3.0,>=0.2.0 (from langchain<0.3.0,>=0.2.0->langchain_community)\n",
      "  Downloading langchain_text_splitters-0.2.1-py3-none-any.whl.metadata (2.2 kB)\n",
      "Requirement already satisfied: pydantic<3,>=1 in c:\\users\\vedch\\anaconda3\\lib\\site-packages (from langchain<0.3.0,>=0.2.0->langchain_community) (1.10.12)\n",
      "Collecting jsonpatch<2.0,>=1.33 (from langchain-core<0.3.0,>=0.2.0->langchain_community)\n",
      "  Using cached jsonpatch-1.33-py2.py3-none-any.whl.metadata (3.0 kB)\n",
      "Collecting packaging<25,>=23.2 (from langchain-core<0.3.0,>=0.2.0->langchain_community)\n",
      "  Downloading packaging-24.1-py3-none-any.whl.metadata (3.2 kB)\n",
      "Collecting orjson<4.0.0,>=3.9.14 (from langsmith<0.2.0,>=0.1.0->langchain_community)\n",
      "  Downloading orjson-3.10.5-cp311-none-win_amd64.whl.metadata (50 kB)\n",
      "     ---------------------------------------- 0.0/50.9 kB ? eta -:--:--\n",
      "     ---------------------------------------- 50.9/50.9 kB 2.5 MB/s eta 0:00:00\n",
      "Requirement already satisfied: charset-normalizer<4,>=2 in c:\\users\\vedch\\anaconda3\\lib\\site-packages (from requests<3,>=2->langchain_community) (2.0.4)\n",
      "Requirement already satisfied: idna<4,>=2.5 in c:\\users\\vedch\\anaconda3\\lib\\site-packages (from requests<3,>=2->langchain_community) (3.4)\n",
      "Requirement already satisfied: urllib3<3,>=1.21.1 in c:\\users\\vedch\\anaconda3\\lib\\site-packages (from requests<3,>=2->langchain_community) (2.0.7)\n",
      "Requirement already satisfied: certifi>=2017.4.17 in c:\\users\\vedch\\anaconda3\\lib\\site-packages (from requests<3,>=2->langchain_community) (2024.2.2)\n",
      "Requirement already satisfied: typing-extensions>=4.6.0 in c:\\users\\vedch\\anaconda3\\lib\\site-packages (from SQLAlchemy<3,>=1.4->langchain_community) (4.9.0)\n",
      "Requirement already satisfied: greenlet!=0.4.17 in c:\\users\\vedch\\anaconda3\\lib\\site-packages (from SQLAlchemy<3,>=1.4->langchain_community) (3.0.1)\n",
      "Requirement already satisfied: jsonpointer>=1.9 in c:\\users\\vedch\\anaconda3\\lib\\site-packages (from jsonpatch<2.0,>=1.33->langchain-core<0.3.0,>=0.2.0->langchain_community) (2.1)\n",
      "Requirement already satisfied: mypy-extensions>=0.3.0 in c:\\users\\vedch\\anaconda3\\lib\\site-packages (from typing-inspect<1,>=0.4.0->dataclasses-json<0.7,>=0.5.7->langchain_community) (1.0.0)\n",
      "Downloading langchain_community-0.2.4-py3-none-any.whl (2.2 MB)\n",
      "   ---------------------------------------- 0.0/2.2 MB ? eta -:--:--\n",
      "   -- ------------------------------------- 0.1/2.2 MB 3.6 MB/s eta 0:00:01\n",
      "   ------ --------------------------------- 0.4/2.2 MB 4.7 MB/s eta 0:00:01\n",
      "   ------------- -------------------------- 0.7/2.2 MB 5.7 MB/s eta 0:00:01\n",
      "   ------------------------ --------------- 1.3/2.2 MB 7.7 MB/s eta 0:00:01\n",
      "   ----------------------------------- ---- 1.9/2.2 MB 8.8 MB/s eta 0:00:01\n",
      "   ---------------------------------------  2.2/2.2 MB 8.6 MB/s eta 0:00:01\n",
      "   ---------------------------------------- 2.2/2.2 MB 8.1 MB/s eta 0:00:00\n",
      "Downloading dataclasses_json-0.6.7-py3-none-any.whl (28 kB)\n",
      "Downloading langchain-0.2.4-py3-none-any.whl (974 kB)\n",
      "   ---------------------------------------- 0.0/974.2 kB ? eta -:--:--\n",
      "   ------------- -------------------------- 327.7/974.2 kB 6.8 MB/s eta 0:00:01\n",
      "   ----------------------- ---------------- 573.4/974.2 kB 8.9 MB/s eta 0:00:01\n",
      "   ----------------------------------- ---- 870.4/974.2 kB 6.9 MB/s eta 0:00:01\n",
      "   ---------------------------------------- 974.2/974.2 kB 6.1 MB/s eta 0:00:00\n",
      "Downloading langchain_core-0.2.6-py3-none-any.whl (315 kB)\n",
      "   ---------------------------------------- 0.0/315.5 kB ? eta -:--:--\n",
      "   ------------------ --------------------- 143.4/315.5 kB 8.9 MB/s eta 0:00:01\n",
      "   ---------------------------------------- 315.5/315.5 kB 4.9 MB/s eta 0:00:00\n",
      "Downloading langsmith-0.1.77-py3-none-any.whl (125 kB)\n",
      "   ---------------------------------------- 0.0/125.2 kB ? eta -:--:--\n",
      "   ---------------------------------------- 125.2/125.2 kB 7.2 MB/s eta 0:00:00\n",
      "Using cached jsonpatch-1.33-py2.py3-none-any.whl (12 kB)\n",
      "Downloading langchain_text_splitters-0.2.1-py3-none-any.whl (23 kB)\n",
      "Downloading marshmallow-3.21.3-py3-none-any.whl (49 kB)\n",
      "   ---------------------------------------- 0.0/49.2 kB ? eta -:--:--\n",
      "   ---------------------------------------- 49.2/49.2 kB ? eta 0:00:00\n",
      "Downloading orjson-3.10.5-cp311-none-win_amd64.whl (141 kB)\n",
      "   ---------------------------------------- 0.0/141.3 kB ? eta -:--:--\n",
      "   ---------------------------------------- 141.3/141.3 kB 4.2 MB/s eta 0:00:00\n",
      "Downloading packaging-24.1-py3-none-any.whl (53 kB)\n",
      "   ---------------------------------------- 0.0/54.0 kB ? eta -:--:--\n",
      "   ---------------------------------------- 54.0/54.0 kB ? eta 0:00:00\n",
      "Using cached typing_inspect-0.9.0-py3-none-any.whl (8.8 kB)\n",
      "Installing collected packages: typing-inspect, packaging, orjson, jsonpatch, marshmallow, langsmith, langchain-core, dataclasses-json, langchain-text-splitters, langchain, langchain_community\n",
      "  Attempting uninstall: packaging\n",
      "    Found existing installation: packaging 23.1\n",
      "    Uninstalling packaging-23.1:\n",
      "      Successfully uninstalled packaging-23.1\n",
      "  Attempting uninstall: jsonpatch\n",
      "    Found existing installation: jsonpatch 1.32\n",
      "    Uninstalling jsonpatch-1.32:\n",
      "      Successfully uninstalled jsonpatch-1.32\n",
      "Successfully installed dataclasses-json-0.6.7 jsonpatch-1.33 langchain-0.2.4 langchain-core-0.2.6 langchain-text-splitters-0.2.1 langchain_community-0.2.4 langsmith-0.1.77 marshmallow-3.21.3 orjson-3.10.5 packaging-24.1 typing-inspect-0.9.0\n",
      "Note: you may need to restart the kernel to use updated packages.\n"
     ]
    },
    {
     "name": "stderr",
     "output_type": "stream",
     "text": [
      "ERROR: pip's dependency resolver does not currently take into account all the packages that are installed. This behaviour is the source of the following dependency conflicts.\n",
      "streamlit 1.30.0 requires packaging<24,>=16.8, but you have packaging 24.1 which is incompatible.\n"
     ]
    }
   ],
   "source": [
    "pip install langchain_community"
   ]
  },
  {
   "cell_type": "code",
   "execution_count": 6,
   "metadata": {},
   "outputs": [
    {
     "name": "stdout",
     "output_type": "stream",
     "text": [
      "Collecting langchain_openaiNote: you may need to restart the kernel to use updated packages.\n",
      "\n",
      "  Downloading langchain_openai-0.1.8-py3-none-any.whl.metadata (2.5 kB)\n",
      "Requirement already satisfied: langchain-core<0.3,>=0.2.2 in c:\\users\\vedch\\anaconda3\\lib\\site-packages (from langchain_openai) (0.2.6)\n",
      "Collecting openai<2.0.0,>=1.26.0 (from langchain_openai)\n",
      "  Downloading openai-1.34.0-py3-none-any.whl.metadata (21 kB)\n",
      "Collecting tiktoken<1,>=0.7 (from langchain_openai)\n",
      "  Downloading tiktoken-0.7.0-cp311-cp311-win_amd64.whl.metadata (6.8 kB)\n",
      "Requirement already satisfied: PyYAML>=5.3 in c:\\users\\vedch\\anaconda3\\lib\\site-packages (from langchain-core<0.3,>=0.2.2->langchain_openai) (6.0.1)\n",
      "Requirement already satisfied: jsonpatch<2.0,>=1.33 in c:\\users\\vedch\\anaconda3\\lib\\site-packages (from langchain-core<0.3,>=0.2.2->langchain_openai) (1.33)\n",
      "Requirement already satisfied: langsmith<0.2.0,>=0.1.75 in c:\\users\\vedch\\anaconda3\\lib\\site-packages (from langchain-core<0.3,>=0.2.2->langchain_openai) (0.1.77)\n",
      "Requirement already satisfied: packaging<25,>=23.2 in c:\\users\\vedch\\anaconda3\\lib\\site-packages (from langchain-core<0.3,>=0.2.2->langchain_openai) (24.1)\n",
      "Requirement already satisfied: pydantic<3,>=1 in c:\\users\\vedch\\anaconda3\\lib\\site-packages (from langchain-core<0.3,>=0.2.2->langchain_openai) (1.10.12)\n",
      "Requirement already satisfied: tenacity<9.0.0,>=8.1.0 in c:\\users\\vedch\\anaconda3\\lib\\site-packages (from langchain-core<0.3,>=0.2.2->langchain_openai) (8.2.2)\n",
      "Requirement already satisfied: anyio<5,>=3.5.0 in c:\\users\\vedch\\anaconda3\\lib\\site-packages (from openai<2.0.0,>=1.26.0->langchain_openai) (4.2.0)\n",
      "Requirement already satisfied: distro<2,>=1.7.0 in c:\\users\\vedch\\anaconda3\\lib\\site-packages (from openai<2.0.0,>=1.26.0->langchain_openai) (1.8.0)\n",
      "Collecting httpx<1,>=0.23.0 (from openai<2.0.0,>=1.26.0->langchain_openai)\n",
      "  Using cached httpx-0.27.0-py3-none-any.whl.metadata (7.2 kB)\n",
      "Requirement already satisfied: sniffio in c:\\users\\vedch\\anaconda3\\lib\\site-packages (from openai<2.0.0,>=1.26.0->langchain_openai) (1.3.0)\n",
      "Requirement already satisfied: tqdm>4 in c:\\users\\vedch\\anaconda3\\lib\\site-packages (from openai<2.0.0,>=1.26.0->langchain_openai) (4.65.0)\n",
      "Requirement already satisfied: typing-extensions<5,>=4.7 in c:\\users\\vedch\\anaconda3\\lib\\site-packages (from openai<2.0.0,>=1.26.0->langchain_openai) (4.9.0)\n",
      "Requirement already satisfied: regex>=2022.1.18 in c:\\users\\vedch\\anaconda3\\lib\\site-packages (from tiktoken<1,>=0.7->langchain_openai) (2023.10.3)\n",
      "Requirement already satisfied: requests>=2.26.0 in c:\\users\\vedch\\anaconda3\\lib\\site-packages (from tiktoken<1,>=0.7->langchain_openai) (2.31.0)\n",
      "Requirement already satisfied: idna>=2.8 in c:\\users\\vedch\\anaconda3\\lib\\site-packages (from anyio<5,>=3.5.0->openai<2.0.0,>=1.26.0->langchain_openai) (3.4)\n",
      "Requirement already satisfied: certifi in c:\\users\\vedch\\anaconda3\\lib\\site-packages (from httpx<1,>=0.23.0->openai<2.0.0,>=1.26.0->langchain_openai) (2024.2.2)\n",
      "Collecting httpcore==1.* (from httpx<1,>=0.23.0->openai<2.0.0,>=1.26.0->langchain_openai)\n",
      "  Using cached httpcore-1.0.5-py3-none-any.whl.metadata (20 kB)\n",
      "Collecting h11<0.15,>=0.13 (from httpcore==1.*->httpx<1,>=0.23.0->openai<2.0.0,>=1.26.0->langchain_openai)\n",
      "  Using cached h11-0.14.0-py3-none-any.whl.metadata (8.2 kB)\n",
      "Requirement already satisfied: jsonpointer>=1.9 in c:\\users\\vedch\\anaconda3\\lib\\site-packages (from jsonpatch<2.0,>=1.33->langchain-core<0.3,>=0.2.2->langchain_openai) (2.1)\n",
      "Requirement already satisfied: orjson<4.0.0,>=3.9.14 in c:\\users\\vedch\\anaconda3\\lib\\site-packages (from langsmith<0.2.0,>=0.1.75->langchain-core<0.3,>=0.2.2->langchain_openai) (3.10.5)\n",
      "Requirement already satisfied: charset-normalizer<4,>=2 in c:\\users\\vedch\\anaconda3\\lib\\site-packages (from requests>=2.26.0->tiktoken<1,>=0.7->langchain_openai) (2.0.4)\n",
      "Requirement already satisfied: urllib3<3,>=1.21.1 in c:\\users\\vedch\\anaconda3\\lib\\site-packages (from requests>=2.26.0->tiktoken<1,>=0.7->langchain_openai) (2.0.7)\n",
      "Requirement already satisfied: colorama in c:\\users\\vedch\\anaconda3\\lib\\site-packages (from tqdm>4->openai<2.0.0,>=1.26.0->langchain_openai) (0.4.6)\n",
      "Downloading langchain_openai-0.1.8-py3-none-any.whl (38 kB)\n",
      "Downloading openai-1.34.0-py3-none-any.whl (325 kB)\n",
      "   ---------------------------------------- 0.0/325.5 kB ? eta -:--:--\n",
      "   -------- ------------------------------- 71.7/325.5 kB 1.3 MB/s eta 0:00:01\n",
      "   --------------------------- ------------ 225.3/325.5 kB 2.7 MB/s eta 0:00:01\n",
      "   ---------------------------------------- 325.5/325.5 kB 2.9 MB/s eta 0:00:00\n",
      "Downloading tiktoken-0.7.0-cp311-cp311-win_amd64.whl (799 kB)\n",
      "   ---------------------------------------- 0.0/799.0 kB ? eta -:--:--\n",
      "   ------------- -------------------------- 276.5/799.0 kB 8.3 MB/s eta 0:00:01\n",
      "   ----------------------------- ---------- 583.7/799.0 kB 7.4 MB/s eta 0:00:01\n",
      "   ------------------------------------- -- 747.5/799.0 kB 6.7 MB/s eta 0:00:01\n",
      "   ---------------------------------------- 799.0/799.0 kB 6.3 MB/s eta 0:00:00\n",
      "Using cached httpx-0.27.0-py3-none-any.whl (75 kB)\n",
      "Using cached httpcore-1.0.5-py3-none-any.whl (77 kB)\n",
      "Using cached h11-0.14.0-py3-none-any.whl (58 kB)\n",
      "Installing collected packages: h11, tiktoken, httpcore, httpx, openai, langchain_openai\n",
      "Successfully installed h11-0.14.0 httpcore-1.0.5 httpx-0.27.0 langchain_openai-0.1.8 openai-1.34.0 tiktoken-0.7.0\n"
     ]
    }
   ],
   "source": [
    "pip install langchain_openai"
   ]
  },
  {
   "cell_type": "code",
   "execution_count": 7,
   "metadata": {},
   "outputs": [],
   "source": [
    "import os\n",
    "from dotenv import load_dotenv\n",
    "\n",
    "load_dotenv()\n",
    "\n",
    "OPENAI_API_KEY = os.getenv(\"put your openai key here\")\n",
    "MODEL = \"gpt-3.5-turbo\"\n",
    "MODEL = \"mixtral:8x7b\"\n",
    "MODEL = \"llama2\"\n"
   ]
  },
  {
   "cell_type": "code",
   "execution_count": 8,
   "metadata": {},
   "outputs": [],
   "source": [
    "from langchain_community.llms import Ollama\n",
    "from langchain_openai.chat_models import ChatOpenAI\n",
    "from langchain_community.embeddings import OllamaEmbeddings\n",
    "from langchain_openai.embeddings import OpenAIEmbeddings\n"
   ]
  },
  {
   "cell_type": "code",
   "execution_count": 9,
   "metadata": {},
   "outputs": [],
   "source": [
    "if MODEL.startswith(\"gpt\"):\n",
    "    model = ChatOpenAI(openai_api_key=OPENAI_API_KEY, model=MODEL)\n",
    "    embeddings = OpenAIEmbeddings()\n",
    "else:\n",
    "    model = Ollama(model=MODEL)\n",
    "    embeddings = OllamaEmbeddings(model=MODEL)\n"
   ]
  },
  {
   "cell_type": "code",
   "execution_count": 10,
   "metadata": {},
   "outputs": [
    {
     "data": {
      "text/plain": [
       "\"Sure, here's one:\\n\\nWhy don't scientists trust atoms?\\nBecause they make up everything!\""
      ]
     },
     "execution_count": 10,
     "metadata": {},
     "output_type": "execute_result"
    }
   ],
   "source": [
    "model.invoke(\"Tell me a joke\",end = ' ')"
   ]
  },
  {
   "cell_type": "code",
   "execution_count": 11,
   "metadata": {},
   "outputs": [
    {
     "name": "stdout",
     "output_type": "stream",
     "text": [
      "Requirement already satisfied: langchain_core in c:\\users\\vedch\\anaconda3\\lib\\site-packages (0.2.6)Note: you may need to restart the kernel to use updated packages.\n",
      "\n",
      "Requirement already satisfied: PyYAML>=5.3 in c:\\users\\vedch\\anaconda3\\lib\\site-packages (from langchain_core) (6.0.1)\n",
      "Requirement already satisfied: jsonpatch<2.0,>=1.33 in c:\\users\\vedch\\anaconda3\\lib\\site-packages (from langchain_core) (1.33)\n",
      "Requirement already satisfied: langsmith<0.2.0,>=0.1.75 in c:\\users\\vedch\\anaconda3\\lib\\site-packages (from langchain_core) (0.1.77)\n",
      "Requirement already satisfied: packaging<25,>=23.2 in c:\\users\\vedch\\anaconda3\\lib\\site-packages (from langchain_core) (24.1)\n",
      "Requirement already satisfied: pydantic<3,>=1 in c:\\users\\vedch\\anaconda3\\lib\\site-packages (from langchain_core) (1.10.12)\n",
      "Requirement already satisfied: tenacity<9.0.0,>=8.1.0 in c:\\users\\vedch\\anaconda3\\lib\\site-packages (from langchain_core) (8.2.2)\n",
      "Requirement already satisfied: jsonpointer>=1.9 in c:\\users\\vedch\\anaconda3\\lib\\site-packages (from jsonpatch<2.0,>=1.33->langchain_core) (2.1)\n",
      "Requirement already satisfied: orjson<4.0.0,>=3.9.14 in c:\\users\\vedch\\anaconda3\\lib\\site-packages (from langsmith<0.2.0,>=0.1.75->langchain_core) (3.10.5)\n",
      "Requirement already satisfied: requests<3,>=2 in c:\\users\\vedch\\anaconda3\\lib\\site-packages (from langsmith<0.2.0,>=0.1.75->langchain_core) (2.31.0)\n",
      "Requirement already satisfied: typing-extensions>=4.2.0 in c:\\users\\vedch\\anaconda3\\lib\\site-packages (from pydantic<3,>=1->langchain_core) (4.9.0)\n",
      "Requirement already satisfied: charset-normalizer<4,>=2 in c:\\users\\vedch\\anaconda3\\lib\\site-packages (from requests<3,>=2->langsmith<0.2.0,>=0.1.75->langchain_core) (2.0.4)\n",
      "Requirement already satisfied: idna<4,>=2.5 in c:\\users\\vedch\\anaconda3\\lib\\site-packages (from requests<3,>=2->langsmith<0.2.0,>=0.1.75->langchain_core) (3.4)\n",
      "Requirement already satisfied: urllib3<3,>=1.21.1 in c:\\users\\vedch\\anaconda3\\lib\\site-packages (from requests<3,>=2->langsmith<0.2.0,>=0.1.75->langchain_core) (2.0.7)\n",
      "Requirement already satisfied: certifi>=2017.4.17 in c:\\users\\vedch\\anaconda3\\lib\\site-packages (from requests<3,>=2->langsmith<0.2.0,>=0.1.75->langchain_core) (2024.2.2)\n"
     ]
    }
   ],
   "source": [
    "pip install langchain_core"
   ]
  },
  {
   "cell_type": "code",
   "execution_count": 12,
   "metadata": {},
   "outputs": [
    {
     "data": {
      "text/plain": [
       "Ollama()\n",
       "| StrOutputParser()"
      ]
     },
     "execution_count": 12,
     "metadata": {},
     "output_type": "execute_result"
    }
   ],
   "source": [
    "from langchain_core.output_parsers import StrOutputParser\n",
    "\n",
    "parser = StrOutputParser()\n",
    "\n",
    "chain = model | parser \n",
    "chain"
   ]
  },
  {
   "cell_type": "code",
   "execution_count": 13,
   "metadata": {},
   "outputs": [
    {
     "data": {
      "text/plain": [
       "'Why was the math book sad? Because it had too many problems! 😂'"
      ]
     },
     "execution_count": 13,
     "metadata": {},
     "output_type": "execute_result"
    }
   ],
   "source": [
    "chain.invoke(\"Tell me a joke\")"
   ]
  },
  {
   "cell_type": "code",
   "execution_count": null,
   "metadata": {},
   "outputs": [],
   "source": []
  },
  {
   "cell_type": "code",
   "execution_count": 14,
   "metadata": {},
   "outputs": [
    {
     "data": {
      "text/plain": [
       "'\\nAnswer the question based on the context below. If you can\\'t \\nanswer the question, reply \"I don\\'t know\".\\n\\nContext: Here is some context\\n\\nQuestion: Here is a question\\n'"
      ]
     },
     "execution_count": 14,
     "metadata": {},
     "output_type": "execute_result"
    }
   ],
   "source": [
    "from langchain.prompts import PromptTemplate\n",
    "\n",
    "template = \"\"\"\n",
    "Answer the question based on the context below. If you can't \n",
    "answer the question, reply \"I don't know\".\n",
    "\n",
    "Context: {context}\n",
    "\n",
    "Question: {question}\n",
    "\"\"\"\n",
    "\n",
    "prompt = PromptTemplate.from_template(template)\n",
    "prompt.format(context=\"Here is some context\", question=\"Here is a question\")"
   ]
  },
  {
   "cell_type": "code",
   "execution_count": 15,
   "metadata": {},
   "outputs": [
    {
     "data": {
      "text/plain": [
       "' Of course! Based on the context provided, the answer to the question \"What\\'s your name?\" would be:\\n\\n\"My name is Ved.\"'"
      ]
     },
     "execution_count": 15,
     "metadata": {},
     "output_type": "execute_result"
    }
   ],
   "source": [
    "chain = prompt | model | parser\n",
    "\n",
    "chain.invoke({\"context\": \"My parents named me Ved\", \"question\": \"What's your name'?\"})"
   ]
  },
  {
   "cell_type": "code",
   "execution_count": 20,
   "metadata": {},
   "outputs": [
    {
     "name": "stdout",
     "output_type": "stream",
     "text": [
      "Collecting pypdf\n",
      "  Using cached pypdf-4.2.0-py3-none-any.whl.metadata (7.4 kB)\n",
      "Using cached pypdf-4.2.0-py3-none-any.whl (290 kB)\n",
      "Installing collected packages: pypdf\n",
      "Successfully installed pypdf-4.2.0\n",
      "Note: you may need to restart the kernel to use updated packages.\n"
     ]
    }
   ],
   "source": [
    "!pip install pypdf"
   ]
  },
  {
   "cell_type": "code",
   "execution_count": 21,
   "metadata": {},
   "outputs": [
    {
     "name": "stdout",
     "output_type": "stream",
     "text": [
      "[Document(page_content=\"The\\norigin\\nof\\nthe\\nuniverse\\nIn\\nthe\\nheart\\nof\\nthe\\ncosmic\\nexpanse,\\nbeyond\\nthe\\nmortal\\nrealm,\\nlies\\nthe\\nenigmatic\\nAetherium,\\na\\nrealm\\nof\\nboundless\\npotential\\nwhere\\nprimordial\\nenergies\\nconverge\\nand\\nintermingle.\\nHere,\\nin\\nthe\\never-shifting\\ntapestry\\nof\\nthe\\nuniverse,\\nthe\\nfirst\\nspirits\\nawakened.\\nThey\\nwere\\nluminous\\nentities,\\nradiant\\nand\\nshapeless,\\nbirthed\\nfrom\\nthe\\namalgamation\\nof\\nelemental\\nforces,\\ncosmic\\nenergies,\\nand\\nthe\\ncollective\\nconsciousness\\nof\\nthe\\ncosmos.\\nThe\\nAetherium,\\na\\nrealm\\nof\\ninfinite\\npossibilities,\\npulsed\\nwith\\nthe\\nheartbeat\\nof\\ncreation.\\nWithin\\nits\\nethereal\\nembrace,\\nthe\\nspirits\\ndanced\\nand\\ncoalesced,\\nforging\\na\\nsymphony\\nof\\nexistence.\\nTheir\\npresence\\ntranscended\\nthe\\nlimitations\\nof\\ntime\\nand\\nspace,\\nembodying\\nthe\\nvery\\nessence\\nof\\nthe\\ncosmos\\nitself.\\nAs\\nthe\\nspirits\\nevolved\\nwithin\\nthe\\nAetherium,\\nthey\\nbegan\\nto\\ndevelop\\ndistinct\\npersonalities\\nand\\naffinities.\\nSome\\nwere\\ndrawn\\nto\\nthe\\nfiery\\ntempests\\nthat\\nraged\\nacross\\nthe\\nAetherium's\\nhorizons,\\nbecoming\\nliving\\nembodiments\\nof\\nthe\\nelement\\nof\\nfire.\\nOthers,\\nlured\\nby\\nthe\\ntranquil\\nembrace\\nof\\nthe\\nAetherium's\\nflowing\\ncurrents,\\nformed\\na\\ndeep\\nconnection\\nwith\\nwater.\\nEarth\\nspirits,\\ndrawn\\nby\\nthe\\nprofound\\nstillness\\nof\\nthe\\nrealm,\\nmanifested\\ntheir\\nessence\\nfrom\\nthe\\nvery\\nground\\nthey\\ntrod\\nupon,\\nwhile\\nthe\\nair\\nspirits\\ndanced\\nthrough\\nthe\\ngales\\nof\\nthe\\nAetherium.\\nThe\\nspirits'\\nethereal\\nconnection\\nwith\\nthe\\ncosmos\\nallowed\\nthem\\nto\\ntraverse\\nthe\\ncelestial\\nrealms,\\ntranscending\\nthe\\nboundaries\\nbetween\\nthe\\nAetherium\\nand\\nthe\\nmortal\\nworld.\\nThey\\nwove\\ncosmic\\nthreads\\ninto\\nthe\\ntapestry\\nof\\nreality,\\nguiding\\nthe\\nflow\\nof\\ntime,\\nthe\\nlaws\\nof\\ngravity,\\nand\\nthe\\nvery\\nessence\\nof\\ncreation.\\nAs\\nthey\\nventured\\ninto\\nthe\\nrealms\\nof\\nmortals,\\nthe\\nspirits\\nbestowed\\ntheir\\nblessings\\nupon\\nsentient\\nbeings,\\nnurturing\\nthe\\ngrowth\\nof\\ncivilizations\\nand\\ninspiring\\nawe\\nand\\nreverence.\\nIn\\nthe\\nmortal\\nrealm,\\nhumans,\\nelves,\\nand\\nother\\nsentient\\nraces,\\nrecognizing\\nthe\\nspirits'\\nprofound\\ninfluence,\\nrevered\\nthem\\nas\\ndivine\\nentities.\\nThe\\nspirits\\nbecame\\ngods,\\nguardians\\nof\\nthe\\nworld\\nand\\nthe\\nbearers\\nof\\ncelestial\\nmagic.\\nTheir\\nstories,\\nmyths,\\nand\\nlegends\\nshaped\\nthe\\ncultures\\nand\\nbelief\\nsystems\\nof\\nthe\\nmortal\\nrealm,\\noffering\\nguidance\\nand\\nwisdom\\nto\\nthose\\nwho\\nsought\\ntheir\\nfavor.\\nAs\\nthe\\nspirits\\ngrew\\nin\\npower,\\nthey\\nestablished\\na\\ncelestial\\nhierarchy,\\nwith\\nthe\\nmost\\ninfluential\\namong\\nthem\\nascending\\nto\\nthe\\npositions\\nof\\nlords\\nand\\nguardians.\\nCelestial\\nbeings\\nof\\nunparalleled\\nstrength\\nwatched\\nover\\nthe\\nnatural\\nworld,\\nensuring\\nthe\\ndelicate\\nbalance\\nof\\nnature\\nand\\nthe\\nharmonious\\ninterplay\\nof\\ncosmic\\nforces.\\nOver\\nmillennia,\\nas\\nthe\\ntides\\nof\\ncivilization\\nebbed\\nand\\nflowed,\\nthe\\ndirect\\ninfluence\\nof\\nthe\\nspirits\\nwaned,\\nand\\ntheir\\nexistence\\ntransformed\\ninto\\na\\nrealm\\nof\\nlegends\\nand\\nlore.\\nYet,\\nwithin\\nthe\\nhearts\\nof\\nthose\\nwho\\nremembered,\\nthe\\nspirits\\nremained\\nas\\ncelestial\\nbeacons,\\ntheir\\nexistence\\nan\\neverlasting\\ntestament\\nto\\nthe\\nprofound\\nconnection\\nbetween\\nthe\\ncosmos\\nand\\nthe\\nmortal\\nrealm.\\nThe\\norigin\\nstory\\nof\\nthe\\nspirits\\nand\\ngods\\nweaves\\na\\ntapestry\\nof\\nmyth\\nand\\ncosmic\\nwonder,\\nan\\node\\nto\\nthe\\nintricate\\ndance\\nof\\ncreation\\nand\\nthe\\nethereal\\nbeings\\nthat\\nemerged\\nfrom\\nthe\\nvery\\nessence\\nof\\nthe\\nuniverse.\\nIt\\nstands\\nas\\na\\ntestament\\nto\\nthe\\nenduring\\nbond\\nbetween\\nthe\\ncelestial\\nand\\nmortal\\nrealms,\\nwaiting\\nto\\nbe\\nunveiled\\nonce\\nmore\\nin\\nthe\\nepic\\ntale\\nthat\\nlies\\nahead.\", metadata={'source': 'C:/Users/vedch/Downloads/Story.pdf', 'page': 0}), Document(page_content=\"Origin\\nof\\nthe\\nSpirits\\nIn\\nthe\\nheart\\nof\\nthe\\ncosmos,\\nwhere\\ngalaxies\\nwhirl\\nand\\ncelestial\\nenergies\\nintertwine,\\nthere\\nexists\\na\\nrealm\\nknown\\nas\\nthe\\nAetherium.\\nIt\\nis\\na\\nplace\\nof\\nboundless\\npotential,\\nwhere\\nthe\\nthreads\\nof\\nexistence\\nare\\nwoven\\nand\\nthe\\nprimordial\\nforces\\nof\\nthe\\nuniverse\\nconverge.\\nIt\\nis\\nfrom\\nthe\\nvery\\nfabric\\nof\\nthis\\ncosmic\\ntapestry\\nthat\\nthe\\nspirits\\nemerged,\\nand\\nfrom\\ntheir\\nethereal\\npresence,\\nthe\\nSpirit\\nCouncil\\ntook\\nroot.\\nIn\\nthe\\ntimeless\\nexpanse\\nof\\nthe\\nAetherium,\\nthe\\nfirst\\nspirits\\ncame\\ninto\\nbeing.\\nThey\\nwere\\nluminous\\nand\\nshapeless\\nentities,\\nborn\\nfrom\\nthe\\nconvergence\\nof\\nelemental\\nforces,\\ncosmic\\nenergies,\\nand\\nthe\\ncollective\\nconsciousness\\nof\\nthe\\nuniverse.\\nThese\\nspirits\\nembodied\\nthe\\nvery\\nessence\\nof\\nthe\\ncosmos\\nitself,\\npersonifications\\nof\\nfire,\\nwater,\\nearth,\\nair,\\ntime,\\nspace,\\ngravity,\\nand\\nmore.\\nAs\\nthe\\nAetherium's\\ncosmic\\nenergies\\npulsed\\nand\\nflowed,\\nthe\\nspirits\\ndeveloped\\ndistinct\\npersonalities\\nand\\naffinities.\\nSome\\nwere\\ndrawn\\nto\\nthe\\nraging\\ntempests\\nof\\nthe\\nAetherium's\\nskies,\\nbecoming\\nliving\\nembodiments\\nof\\nthe\\nelement\\nof\\nair.\\nOthers\\nfound\\nsolace\\nin\\nthe\\ntranquility\\nof\\nthe\\nflowing\\ncosmic\\ncurrents,\\nforging\\ndeep\\nconnections\\nwith\\nwater.\\nThe\\nearth\\nspirits\\nemerged\\nfrom\\nthe\\nvery\\nfoundation\\nof\\nthe\\nAetherium,\\nwhile\\nthe\\nfire\\nspirits\\nblazed\\nwith\\nthe\\nintensity\\nof\\ncosmic\\nflames.\\nThese\\ncelestial\\nbeings,\\nas\\nthey\\nwere\\nknown,\\nheld\\na\\nprofound\\nconnection\\nto\\nthe\\ncosmos.\\nThey\\ncould\\ntraverse\\nbetween\\nthe\\nAetherium\\nand\\nthe\\nrealms\\nof\\nexistence,\\nshaping\\nthe\\nlaws\\nof\\nnature,\\nthe\\nflow\\nof\\ntime,\\nand\\nthe\\nintricate\\ndance\\nof\\nthe\\ncosmos.\\nThey\\nbecame\\nthe\\noverseers\\nof\\nthe\\nuniverse's\\nmysteries,\\nguiding\\nthe\\ndestiny\\nof\\nstars\\nand\\nworlds.\\nIn\\nthe\\nmortal\\nrealms,\\nwhere\\nsentient\\nbeings\\nsought\\nto\\nunderstand\\nthe\\nmysteries\\nof\\nexistence,\\nthe\\nspirits\\nwere\\nrevered\\nas\\ngods.\\nHumans,\\nelves,\\nand\\ncountless\\nothers\\nattributed\\nthe\\nwonders\\nof\\ntheir\\nworld\\nto\\nthese\\ndivine\\nentities,\\nweaving\\ntales\\nand\\nlegends\\nto\\nhonor\\ntheir\\ninfluence.\\nOver\\ntime,\\nthe\\nspirits\\nformed\\na\\ncelestial\\nhierarchy,\\nwith\\nthe\\nmost\\npowerful\\namong\\nthem\\ntaking\\non\\nthe\\nroles\\nof\\nlords\\nand\\nguardians.\\nThese\\ncelestial\\nlords\\nwatched\\nover\\nthe\\nmaterial\\nrealm,\\nensuring\\nthe\\nbalance\\nof\\ncosmic\\nforces\\nand\\nthe\\nharmony\\nof\\nthe\\nnatural\\nworld.\\nAs\\nthe\\ntides\\nof\\nhistory\\nflowed,\\nthe\\nspirits'\\ndirect\\ninfluence\\nbegan\\nto\\nwane,\\nand\\ntheir\\nstories\\nevolved\\ninto\\nmyths\\nand\\nlegends.\\nYet,\\nthey\\nremained\\nas\\nenigmatic,\\nelusive\\nforces,\\ntheir\\ntrue\\nnature\\nand\\npurpose\\nknown\\nonly\\nto\\na\\nselect\\nfew.\\nAs\\nfor\\nthe\\nSpirit\\nCouncil,\\nit\\nemerged\\nas\\na\\nresponse\\nto\\nthe\\nneed\\nfor\\ncosmic\\norder\\nand\\nbalance.\\nRecognizing\\nthat\\nthe\\ncelestial\\nlords\\nheld\\nsway\\nover\\ndistinct\\naspects\\nof\\nexistence,\\na\\ncouncil\\nwas\\nformed\\nto\\nharmonize\\ntheir\\ninfluence.\\nThe\\ncouncil\\nwas\\nestablished\\nwithin\\nthe\\ncosmic\\nheart\\nof\\nthe\\nAetherium,\\nserving\\nas\\na\\ngoverning\\nbody\\nthat\\nrepresented\\nthe\\ninterests\\nof\\nthe\\nspirits\\nin\\ntheir\\ncelestial\\nendeavors.\\nIn\\ntime,\\nthe\\ncouncil\\ncame\\nto\\nconsist\\nof\\ntwelve\\nseats,\\neach\\nrepresenting\\na\\ndifferent\\naspect\\nof\\nexistence:\\nthe\\nElemental\\nSeat,\\nwhich\\nembodied\\nthe\\nelements\\nof\\nfire,\\nwater,\\nearth,\\nand\\nair;\\nthe\\nCosmic\\nArbiters\\nSeat,\\nwhich\\nwatched\\nover\\nthe\\naspects\\nof\\ntime,\\nspace,\\nand\\ngravity;\\nthe\\nPrimal\\nNexus\\nSeat,\\nrepresenting\\nthe\\nPrimordial\\nFaction;\\nthe\\nElysian\\nSeat\\nfor\\nthe\\nCelestial\\nFaction;\\nthe\\nAbyssal\\nSeat,\\nguardians\\nof\\nthe\\nDeep\\nSea\\nFaction;\\nthe\\nFamiliar\\nSeat\\nfor\\nthe\\nFamiliar\\nFaction;\\nthe\\nSylvan\\nSeat,\\noverseers\\nof\\nthe\\nNature\\nFaction;\\nthe\\nMeteorological\\nSeat,\\nwhich\\ngoverned\\nall\\naspects\\nof\\nweather;\\nand\\nmore.\\nThe\\nSpirit\\nCouncil\\nensured\\nthat\\nthe\\ncelestial\\nlords'\\nactions\\nand\\ninfluences\\nwere\\nin\\nharmony\\nwith\\nthe\\ncosmic\\ndesign,\\nthus\\nmaintaining\\nthe\\nbalance\\nbetween\\nthe\\nmortal\\nrealm\\nand\\nthe\\ncelestial\\nrealms.\", metadata={'source': 'C:/Users/vedch/Downloads/Story.pdf', 'page': 1}), Document(page_content=\"Though\\nthe\\nspirits'\\ndirect\\ninteraction\\nwith\\nmortals\\nbecame\\nless\\nfrequent\\nover\\nthe\\nages,\\ntheir\\nexistence\\nremains\\nshrouded\\nin\\nmyth\\nand\\ncosmic\\nwonder,\\nan\\nenduring\\ntestament\\nto\\nthe\\nprofound\\nconnection\\nbetween\\nthe\\ncelestial\\nand\\nmortal\\nrealms.\\nAnd\\nas\\nthe\\ngreat\\ncosmic\\ntapestry\\nof\\nexistence\\ncontinues\\nto\\nweave\\nits\\nintricate\\npatterns,\\nthe\\nspirits\\nand\\nthe\\nSpirit\\nCouncil\\nwatch\\nover\\nthe\\nuniverse,\\nsilently\\ninfluencing\\nits\\ndestiny\\nfrom\\nthe\\ncosmic\\nheart\\nof\\nthe\\nAetherium.\", metadata={'source': 'C:/Users/vedch/Downloads/Story.pdf', 'page': 2}), Document(page_content='Origin\\nof\\nthe\\ngods\\nIn\\nthe\\nannals\\nof\\ntime,\\nthere\\nwas\\nan\\nera\\nwhen\\nthe\\ncosmos\\nwas\\nbut\\na\\nturbulent\\nsea\\nof\\nenergies,\\nuntamed\\nand\\nformless.\\nAmid\\nthis\\nmaelstrom,\\nthe\\npantheon\\nof\\nVeridianus,\\nthe\\nRuler\\nof\\nthe\\nHeavens,\\ncame\\ninto\\nexistence,\\neach\\ndeity\\nembodying\\nthe\\nfundamental\\naspects\\nof\\nexistence\\nand\\ncosmic\\nforces.\\nVeridianus,\\nthe\\nRuler\\nof\\nthe\\nHeavens,\\nwas\\nthe\\nfirst\\nto\\nemerge\\nfrom\\nthe\\ncosmic\\nchaos.\\nWith\\na\\nregal\\npresence,\\nhe\\nwielded\\nthe\\npowers\\nof\\nthe\\nsky\\nand\\nweather,\\nand\\nhis\\npresence\\nbrought\\norder\\nto\\nthe\\ncelestial\\ntumult.\\nThe\\npantheon\\'s\\nmotto,\\n\"From\\nthe\\nskies,\\nI\\nbring\\nboth\\nfury\\nand\\nserenity,\"\\nreflected\\nhis\\ndual\\nnature,\\ncapable\\nof\\nboth\\nnurturing\\nand\\ntempestuous\\nacts.\\nNext\\nto\\ngrace\\nthe\\ncosmic\\nstage\\nwas\\nArtemis,\\nthe\\nHuntress.\\nShe\\nmanifested\\namidst\\nthe\\nwild\\nand\\nuntamed\\nwilderness,\\nher\\nbow\\nand\\narrow\\nin\\nhand.\\nHer\\nconnection\\nwith\\nthe\\nnatural\\nworld\\nwas\\nundeniable,\\nand\\nshe\\nheld\\nmastery\\nover\\nthe\\nart\\nof\\nhunting.\\nHer\\nmotto,\\n\"My\\narrows\\nstrike\\ntrue,\\nand\\nmy\\nheart\\nbeats\\nwith\\nthe\\nwild,\"\\nspoke\\nto\\nher\\nunerring\\naccuracy\\nand\\nher\\nfierce\\nlove\\nfor\\nthe\\nuntamed\\nrealm.\\nPoseidon,\\nLord\\nof\\nthe\\nSeas,\\nwas\\nborn\\nfrom\\nthe\\nchurning\\ncosmic\\nwaters.\\nAs\\nhe\\nemerged,\\nthe\\noceans\\nand\\ntides\\nbent\\nto\\nhis\\nwill,\\nand\\naquatic\\nlife\\nbowed\\nto\\nhis\\ndominion.\\nWith\\nhis\\nmotto,\\n\"In\\nmy\\ndepths,\\nsecrets\\nand\\ntreasures\\nabound,\"\\nhe\\nembodied\\nthe\\nenigmatic\\nand\\nabundant\\nnature\\nof\\nthe\\ndeep\\nsea.\\nDemetria,\\nthe\\nEarthmother,\\nrose\\nforth\\nas\\nthe\\ncosmic\\nsoils\\ntook\\nform.\\nShe\\ncarried\\nthe\\nessence\\nof\\nfertility\\nand\\nbountiful\\nharvests.\\nHer\\nnurturing\\npowers\\nenriched\\nthe\\nland\\nand\\nbestowed\\nlife\\'s\\nbounty\\nupon\\nit,\\nand\\nher\\nmotto,\\n\"In\\nthe\\nsoil\\'s\\nembrace,\\nlife\\nblossoms,\"\\nspoke\\nto\\nher\\nprofound\\ninfluence\\nover\\nthe\\nearth.\\nAegis,\\nthe\\nDefender\\nof\\nMortals,\\ntook\\nshape\\nas\\na\\ncelestial\\nguardian,\\nwielding\\na\\nshield\\nof\\ninvincibility.\\nHis\\nvalor\\nand\\nsteadfastness\\nmade\\nhim\\nthe\\nprotector\\nof\\nmortals,\\nand\\nhis\\nmotto,\\n\"My\\nshield\\nshall\\nnever\\nwaver\\nin\\nthe\\nface\\nof\\nadversity,\"\\ncaptured\\nhis\\nunwavering\\ncommitment\\nto\\nsafeguarding\\nthe\\nvulnerable.\\nEchidna,\\nthe\\nSerpent\\nMistress,\\nmaterialized\\nas\\nthe\\nembodiment\\nof\\nall\\nthings\\nserpentine\\nand\\nreptilian.\\nShe\\ncommanded\\na\\nrealm\\nof\\nvenomous\\ncreatures,\\nand\\nher\\ncunning\\nintellect\\nwas\\nmatched\\nonly\\nby\\nher\\nconnection\\nto\\nthe\\nwild.\\nHer\\nmotto,\\n\"In\\nthe\\nwild\\'s\\nshadows,\\nmy\\nchildren\\nthrive,\"\\nhighlighted\\nher\\naffinity\\nfor\\nthe\\nenigmatic\\nand\\ncunning.\\nHermes\\nthe\\nFleetfooted\\narrived\\nwith\\nboundless\\nspeed,\\nbecoming\\nthe\\npantheon\\'s\\nmessenger\\nand\\ntraveler.\\nHis\\nswiftness,\\ncoupled\\nwith\\nhis\\nexceptional\\ncommunication\\nskills,\\nmade\\nhim\\na\\nvital\\nlink\\nbetween\\nthe\\ncelestial\\nrealm\\nand\\nthe\\nmortal\\nworld.\\nHis\\nmotto,\\n\"The\\nroad\\nunfolds\\nbefore\\nme,\\nand\\nmy\\nmessages\\nspan\\nthe\\ncosmos,\"\\nrevealed\\nhis\\nrole\\nas\\nthe\\nuniverse\\'s\\nherald.\\nChronos,\\nthe\\nKeeper\\nof\\nTime,\\nwas\\nthe\\ntemporal\\nluminary.\\nHe\\nheld\\ndominion\\nover\\nthe\\nriver\\nof\\ntime\\nand\\npossessed\\nthe\\nknowledge\\nof\\ndestiny\\'s\\nthreads.\\nHis\\nmotto,\\n\"In\\nthe\\nriver\\nof\\ntime,\\nI\\nhold\\nthe\\nkeys\\nto\\ndestiny,\"\\nacknowledged\\nhis\\nprofound\\ninfluence\\nover\\nthe\\nuniverse\\'s\\ntemporal\\nfabric.\\nNyxia,\\nthe\\nEnigmatic\\nNight,\\nemerged\\nas\\nthe\\ncosmic\\nshroud\\nof\\ndarkness.\\nHer\\npowers\\nencompassed\\nshadow\\nmanipulation,\\ndreamweaving,\\nand\\nthe\\nmysteries\\nconcealed\\nwithin\\nthe\\nnight.\\nHer\\nmotto,\\n\"In\\nthe\\nveil\\nof\\ndarkness,\\nsecrets\\nawaken,\"\\nevoked\\nthe\\nmystique\\nand\\nintrigue\\nof\\nthe\\nnight.\\nApollo,\\nthe\\nRadiant\\nVirtuoso,\\nappeared\\nwith\\ncelestial\\nbrilliance.\\nHe\\nreigned\\nover\\nthe\\nrealm\\nof\\nmusic\\nand\\narts,\\ninspiring\\nbeauty\\nand\\ncreativity.\\nHis\\nmotto,\\n\"In\\nevery\\nnote\\nand\\nstroke,\\nI\\nfind\\nthe\\nharmony\\nof\\ncreation,\"\\ncelebrated\\nhis\\ndevotion\\nto\\nthe\\narts\\nand\\nthe\\nradiant\\nsplendor\\nhe\\nbrought\\nto\\nthe\\ncosmos.', metadata={'source': 'C:/Users/vedch/Downloads/Story.pdf', 'page': 3}), Document(page_content='Erebus,\\nthe\\nBringer\\nof\\nDusk,\\nmaterialized\\nat\\nthe\\ntwilight\\'s\\nthreshold.\\nHis\\npresence\\nbridged\\nthe\\ndivide\\nbetween\\nday\\nand\\nnight,\\nand\\nhis\\nrealm\\nwas\\none\\nof\\ntwilight\\nand\\nambiguity.\\nHis\\nmotto,\\n\"In\\nthe\\nthreshold\\nbetween\\nday\\nand\\nnight,\\nI\\ndwell,\"\\nspoke\\nto\\nhis\\nrole\\nas\\nthe\\ncosmic\\nbalance.\\nFinally,\\nHarmonia,\\nthe\\nDivine\\nHarmonizer,\\nemerged\\nas\\nthe\\nembodiment\\nof\\npeace\\nand\\nunity.\\nHer\\npowers\\nallowed\\nher\\nto\\npacify\\nconflicts\\nand\\nfoster\\nharmony.\\nHer\\nmotto,\\n\"In\\nunity,\\nthere\\nis\\nstrength\\nand\\nserenity,\"\\nconveyed\\nher\\ncommitment\\nto\\nbringing\\nbalance\\nand\\nserenity\\nto\\nthe\\nuniverse.\\nAs\\nthis\\npantheon\\nof\\ncosmic\\ndeities\\nshaped\\nthe\\ncosmos,\\nthey\\nproclaimed\\ntheir\\nmottoes,\\neach\\nechoing\\nwith\\nthe\\nresonance\\nof\\ntheir\\ndivine\\npurpose.\\nFrom\\nthe\\nheavens\\nto\\nthe\\ndepths\\nof\\nthe\\noceans,\\nfrom\\nthe\\npassage\\nof\\ntime\\nto\\nthe\\nenigmatic\\nshadows\\nof\\nthe\\nnight,\\nthese\\ndeities\\ngoverned\\nthe\\ncosmos,\\nensuring\\nthat\\nall\\naspects\\nof\\nexistence\\nwere\\nin\\nperfect\\nharmony.They\\nwere\\n“The\\nEternal\\nArchitects”', metadata={'source': 'C:/Users/vedch/Downloads/Story.pdf', 'page': 4}), Document(page_content=\"The\\norigins\\nof\\nthe\\ndevil\\nThe\\nOrigin\\nof\\nthe\\nInfernal\\nTenebris:\\nIn\\nthe\\nprimeval\\nabyss\\nof\\nthe\\ncosmos,\\nwhere\\nthe\\nshadows\\nof\\ncreation\\ndanced\\nin\\nan\\neternal\\nvoid,\\nthe\\nInfernal\\nTenebris\\nemerged.\\nBorn\\nfrom\\nthe\\ndepths\\nof\\ndarkness\\nand\\nmalevolence,\\nthese\\nprimordial\\nentities\\ntook\\nshape\\nas\\nthe\\nembodiment\\nof\\nentropy\\nand\\nchaos,\\ncontrasting\\nthe\\nharmonious\\nessence\\nof\\nthe\\ndivine\\ngods\\nand\\nthe\\nenigmatic\\nspirits.\\nAs\\nthe\\ncosmos\\nitself\\nwas\\nstill\\nin\\nits\\ninfancy,\\nthe\\nInfernal\\nTenebris\\nsprung\\ninto\\nexistence,\\na\\nproduct\\nof\\nthe\\nswirling,\\nchaotic\\nenergies\\nthat\\ndefined\\nthe\\nearly\\nuniverse.\\nTheir\\nemergence\\nsignified\\nthe\\nduality\\nof\\nexistence,\\na\\ncounterbalance\\nto\\nthe\\ncelestial\\nforces\\nthat\\ncrafted\\nthe\\nmortal\\nworld.\\nThe\\ndevils\\ntook\\ntheir\\nfirst\\nbreaths\\nin\\nthe\\nheart\\nof\\nan\\never-burning,\\nobsidian\\nrealm\\nknown\\nas\\nthe\\nAbyssal\\nMaw,\\nwhere\\ntorment\\nand\\ntreachery\\nwere\\nthe\\nbedrock\\nof\\ntheir\\nsociety.\\nInitially,\\nthe\\nTenebris\\nwere\\nformless\\nand\\nvolatile,\\nmere\\nmalevolent\\nenergies\\nthat\\ntwisted\\nand\\nwrithed\\nwithin\\nthe\\nAbyssal\\nMaw.\\nBut\\nas\\nthey\\ngrew\\nin\\npower\\nand\\nmalice,\\nthey\\ngradually\\nassumed\\nmore\\ndefined\\nforms,\\neach\\nrepresenting\\na\\nfacet\\nof\\ndarkness\\nand\\nchaos.\\nOver\\neons,\\nthese\\nentities\\ntransformed\\ninto\\nthe\\nInfernal\\nTenebris,\\nwith\\ndistinct\\nattributes,\\npersonalities,\\nand\\ndomains\\nof\\ninfluence.\\nTheir\\ninsatiable\\nhunger\\nfor\\npower\\nand\\ndominion\\ndrove\\nthem\\nto\\nseek\\nconquest,\\nnot\\njust\\nof\\nthe\\nmortal\\nrealm\\nbut\\nalso\\nof\\nthe\\nAetherium,\\nwhere\\nthe\\nspirits\\nand\\ngods\\nheld\\nsway.\\nThe\\nTenebris,\\nled\\nby\\ntheir\\nformidable\\nleaders,\\ncraved\\nto\\nunravel\\nthe\\ncelestial\\norder\\nand\\nplunge\\nthe\\ncosmos\\ninto\\neternal\\ndiscord.\\nAs\\nthey\\nmarched\\nacross\\nthe\\ncosmic\\nexpanse,\\nthe\\nTenebris\\nsowed\\nthe\\nseeds\\nof\\ntreachery,\\nfear,\\nand\\ntemptation\\nin\\nthe\\nhearts\\nof\\nmortals.\\nThey\\nwhispered\\ndark\\npromises\\nand\\nbeckoned\\nsouls\\nto\\ntheir\\nrealm,\\noffering\\nforbidden\\nknowledge\\nand\\nforbidden\\nbargains\\nin\\nexchange\\nfor\\nservitude.\\nThe\\nclash\\nbetween\\nthe\\nInfernal\\nTenebris\\nand\\nthe\\ngods\\nand\\nspirits\\nignited\\na\\ncelestial\\nwar\\nthat\\nreverberated\\nthroughout\\nthe\\ncosmos.\\nThe\\nheavens\\nand\\nthe\\nearth\\nquaked\\nunder\\nthe\\nweight\\nof\\ntheir\\nbattle.\\nIn\\nthis\\nepic\\nconflict,\\nthe\\nInfernal\\nTenebris\\nrevealed\\ntheir\\nsinister\\npowers\\n—\\nthe\\nmanipulation\\nof\\nshadows,\\nthe\\ncrafting\\nof\\nillusions,\\nthe\\nspread\\nof\\ndeceit,\\nand\\nthe\\nsowing\\nof\\ndiscord.\\nDespite\\ntheir\\npotency,\\nthe\\ncelestial\\nforces\\nheld\\na\\nfragile\\nadvantage,\\nbolstered\\nby\\ntheir\\nunity\\nand\\nthe\\nunwavering\\nfaith\\nof\\nmortals.\\nIn\\nthe\\nend,\\na\\ntenuous\\ntruce\\nwas\\nreached,\\nand\\na\\ncosmic\\nbalance\\nwas\\nestablished.\\nThe\\nInfernal\\nTenebris\\nretreated\\nto\\nthe\\nAbyssal\\nMaw,\\nwhere\\nthey\\ncontinued\\ntheir\\nceaseless\\nplots,\\never\\neager\\nto\\ntip\\nthe\\nscales\\nin\\ntheir\\nfavor.\\nIn\\nthe\\nmortal\\nrealm,\\nthe\\nmemory\\nof\\nthe\\nInfernal\\nTenebris\\npersisted\\nas\\nnightmarish\\ntales,\\ncautionary\\nlegends,\\nand\\nmalevolent\\nwhispers\\nin\\nthe\\ndark.\\nMortals\\nwho\\nsuccumbed\\nto\\nthe\\nTenebris'\\ntemptations\\nfound\\nthemselves\\nensnared\\nin\\na\\nweb\\nof\\nintrigue,\\ntheir\\nfates\\nforever\\nbound\\nto\\nthe\\ndevils'\\ninsidious\\ndesigns.\", metadata={'source': 'C:/Users/vedch/Downloads/Story.pdf', 'page': 5}), Document(page_content='While\\nthe\\nInfernal\\nTenebris\\nslumbered\\nin\\nthe\\nAbyssal\\nMaw,\\ntheir\\nsinister\\ninfluence\\nremained,\\nand\\ntheir\\nreturn\\nto\\nthe\\nmortal\\nrealm\\nwas\\nbut\\na\\nmatter\\nof\\ntime,\\nfor\\nthe\\nembers\\nof\\ntheir\\nmalevolence\\nsmoldered\\neternally.\\nIt\\nwas\\nin\\nthis\\ntapestry\\nof\\ncosmic\\nstruggle\\nthat\\nthe\\nworld\\nof\\nmortals\\nfound\\nits\\nplace,\\ncaught\\nbetween\\nthe\\ncelestial\\nlight\\nof\\nthe\\ngods\\nand\\nthe\\nmalevolent\\nshadows\\nof\\nthe\\nInfernal\\nTenebris.\\nThe\\nspirits,\\nborn\\nfrom\\nthe\\ncosmos\\nitself,\\nwatched\\nover\\nthis\\nintricate\\ninterplay,\\nholding\\nthe\\nkey\\nto\\nmaintaining\\nthe\\nbalance\\nbetween\\nlight\\nand\\ndarkness.\\nAnd\\nso,\\nthe\\nstage\\nwas\\nset\\nfor\\nan\\nageless\\nsaga,\\nwhere\\nthe\\ndestinies\\nof\\nmortals,\\nspirits,\\ngods,\\nand\\ndevils\\nwould\\nintertwine\\nin\\na\\ntimeless\\ndance\\nof\\ncosmic\\nforces,\\nushering\\nin\\neras\\nof\\npeace\\nand\\nchaos,\\ncreation\\nand\\ndestruction.\\nThis\\nwas\\nthe\\nstory\\nof\\nthe\\nuniverse,\\nwhere\\nlight\\nand\\ndarkness\\nwould\\neternally\\nvie\\nfor\\ndominance,\\nand\\nwhere\\nthe\\nhearts\\nof\\nmortals\\nwould\\nhold\\nthe\\npower\\nto\\nshape\\nthe\\nfate\\nof\\nall.', metadata={'source': 'C:/Users/vedch/Downloads/Story.pdf', 'page': 6})]\n"
     ]
    }
   ],
   "source": [
    "from langchain_community.document_loaders import PyPDFLoader\n",
    "\n",
    "loader = PyPDFLoader(\"C:/Users/vedch/Downloads/Story.pdf\")\n",
    "pages = loader.load_and_split()\n",
    "print(pages)"
   ]
  },
  {
   "cell_type": "code",
   "execution_count": 22,
   "metadata": {},
   "outputs": [
    {
     "name": "stdout",
     "output_type": "stream",
     "text": [
      "Requirement already satisfied: langchain[docarray] in c:\\users\\vedch\\anaconda3\\lib\\site-packages (0.2.4)\n",
      "Requirement already satisfied: PyYAML>=5.3 in c:\\users\\vedch\\anaconda3\\lib\\site-packages (from langchain[docarray]) (6.0.1)\n",
      "Requirement already satisfied: SQLAlchemy<3,>=1.4 in c:\\users\\vedch\\anaconda3\\lib\\site-packages (from langchain[docarray]) (2.0.25)\n",
      "Requirement already satisfied: aiohttp<4.0.0,>=3.8.3 in c:\\users\\vedch\\anaconda3\\lib\\site-packages (from langchain[docarray]) (3.9.3)\n",
      "Requirement already satisfied: langchain-core<0.3.0,>=0.2.6 in c:\\users\\vedch\\anaconda3\\lib\\site-packages (from langchain[docarray]) (0.2.6)\n",
      "Requirement already satisfied: langchain-text-splitters<0.3.0,>=0.2.0 in c:\\users\\vedch\\anaconda3\\lib\\site-packages (from langchain[docarray]) (0.2.1)\n",
      "Requirement already satisfied: langsmith<0.2.0,>=0.1.17 in c:\\users\\vedch\\anaconda3\\lib\\site-packages (from langchain[docarray]) (0.1.77)\n",
      "Requirement already satisfied: numpy<2,>=1 in c:\\users\\vedch\\anaconda3\\lib\\site-packages (from langchain[docarray]) (1.26.4)\n",
      "Requirement already satisfied: pydantic<3,>=1 in c:\\users\\vedch\\anaconda3\\lib\\site-packages (from langchain[docarray]) (1.10.12)\n",
      "Requirement already satisfied: requests<3,>=2 in c:\\users\\vedch\\anaconda3\\lib\\site-packages (from langchain[docarray]) (2.31.0)\n",
      "Requirement already satisfied: tenacity<9.0.0,>=8.1.0 in c:\\users\\vedch\\anaconda3\\lib\\site-packages (from langchain[docarray]) (8.2.2)\n",
      "Requirement already satisfied: aiosignal>=1.1.2 in c:\\users\\vedch\\anaconda3\\lib\\site-packages (from aiohttp<4.0.0,>=3.8.3->langchain[docarray]) (1.2.0)\n",
      "Requirement already satisfied: attrs>=17.3.0 in c:\\users\\vedch\\anaconda3\\lib\\site-packages (from aiohttp<4.0.0,>=3.8.3->langchain[docarray]) (23.1.0)\n",
      "Requirement already satisfied: frozenlist>=1.1.1 in c:\\users\\vedch\\anaconda3\\lib\\site-packages (from aiohttp<4.0.0,>=3.8.3->langchain[docarray]) (1.4.0)\n",
      "Requirement already satisfied: multidict<7.0,>=4.5 in c:\\users\\vedch\\anaconda3\\lib\\site-packages (from aiohttp<4.0.0,>=3.8.3->langchain[docarray]) (6.0.4)\n",
      "Requirement already satisfied: yarl<2.0,>=1.0 in c:\\users\\vedch\\anaconda3\\lib\\site-packages (from aiohttp<4.0.0,>=3.8.3->langchain[docarray]) (1.9.3)\n",
      "Requirement already satisfied: jsonpatch<2.0,>=1.33 in c:\\users\\vedch\\anaconda3\\lib\\site-packages (from langchain-core<0.3.0,>=0.2.6->langchain[docarray]) (1.33)\n",
      "Requirement already satisfied: packaging<25,>=23.2 in c:\\users\\vedch\\anaconda3\\lib\\site-packages (from langchain-core<0.3.0,>=0.2.6->langchain[docarray]) (24.1)\n",
      "Requirement already satisfied: orjson<4.0.0,>=3.9.14 in c:\\users\\vedch\\anaconda3\\lib\\site-packages (from langsmith<0.2.0,>=0.1.17->langchain[docarray]) (3.10.5)\n",
      "Requirement already satisfied: typing-extensions>=4.2.0 in c:\\users\\vedch\\anaconda3\\lib\\site-packages (from pydantic<3,>=1->langchain[docarray]) (4.9.0)\n",
      "Requirement already satisfied: charset-normalizer<4,>=2 in c:\\users\\vedch\\anaconda3\\lib\\site-packages (from requests<3,>=2->langchain[docarray]) (2.0.4)\n",
      "Requirement already satisfied: idna<4,>=2.5 in c:\\users\\vedch\\anaconda3\\lib\\site-packages (from requests<3,>=2->langchain[docarray]) (3.4)\n",
      "Requirement already satisfied: urllib3<3,>=1.21.1 in c:\\users\\vedch\\anaconda3\\lib\\site-packages (from requests<3,>=2->langchain[docarray]) (2.0.7)\n",
      "Requirement already satisfied: certifi>=2017.4.17 in c:\\users\\vedch\\anaconda3\\lib\\site-packages (from requests<3,>=2->langchain[docarray]) (2024.2.2)\n",
      "Requirement already satisfied: greenlet!=0.4.17 in c:\\users\\vedch\\anaconda3\\lib\\site-packages (from SQLAlchemy<3,>=1.4->langchain[docarray]) (3.0.1)\n",
      "Requirement already satisfied: jsonpointer>=1.9 in c:\\users\\vedch\\anaconda3\\lib\\site-packages (from jsonpatch<2.0,>=1.33->langchain-core<0.3.0,>=0.2.6->langchain[docarray]) (2.1)\n",
      "Note: you may need to restart the kernel to use updated packages.\n"
     ]
    },
    {
     "name": "stderr",
     "output_type": "stream",
     "text": [
      "WARNING: langchain 0.2.4 does not provide the extra 'docarray'\n"
     ]
    }
   ],
   "source": [
    "%pip install langchain[docarray]"
   ]
  },
  {
   "cell_type": "code",
   "execution_count": 18,
   "metadata": {},
   "outputs": [
    {
     "name": "stdout",
     "output_type": "stream",
     "text": [
      "Note: you may need to restart the kernel to use updated packages.\n"
     ]
    }
   ],
   "source": [
    "%pip install --upgrade --quiet  \"docarray\""
   ]
  },
  {
   "cell_type": "code",
   "execution_count": 23,
   "metadata": {},
   "outputs": [],
   "source": [
    "from langchain_community.vectorstores import DocArrayInMemorySearch\n",
    "\n",
    "# Ensure all elements in pages are strings\n",
    "pages = [str(page) for page in pages]\n",
    "\n",
    "# Initialize the vector store with texts and embeddings\n",
    "vectorstore = DocArrayInMemorySearch.from_texts(pages, embedding=embeddings)"
   ]
  },
  {
   "cell_type": "markdown",
   "metadata": {},
   "source": []
  },
  {
   "cell_type": "code",
   "execution_count": 17,
   "metadata": {},
   "outputs": [
    {
     "data": {
      "text/plain": [
       "[Document(page_content='page_content=\"Though\\\\nthe\\\\nspirits\\'\\\\ndirect\\\\ninteraction\\\\nwith\\\\nmortals\\\\nbecame\\\\nless\\\\nfrequent\\\\nover\\\\nthe\\\\nages,\\\\ntheir\\\\nexistence\\\\nremains\\\\nshrouded\\\\nin\\\\nmyth\\\\nand\\\\ncosmic\\\\nwonder,\\\\nan\\\\nenduring\\\\ntestament\\\\nto\\\\nthe\\\\nprofound\\\\nconnection\\\\nbetween\\\\nthe\\\\ncelestial\\\\nand\\\\nmortal\\\\nrealms.\\\\nAnd\\\\nas\\\\nthe\\\\ngreat\\\\ncosmic\\\\ntapestry\\\\nof\\\\nexistence\\\\ncontinues\\\\nto\\\\nweave\\\\nits\\\\nintricate\\\\npatterns,\\\\nthe\\\\nspirits\\\\nand\\\\nthe\\\\nSpirit\\\\nCouncil\\\\nwatch\\\\nover\\\\nthe\\\\nuniverse,\\\\nsilently\\\\ninfluencing\\\\nits\\\\ndestiny\\\\nfrom\\\\nthe\\\\ncosmic\\\\nheart\\\\nof\\\\nthe\\\\nAetherium.\" metadata={\\'source\\': \\'C:/Users/vedch/Downloads/Story.pdf\\', \\'page\\': 2}'),\n",
       " Document(page_content='page_content=\"The\\\\norigin\\\\nof\\\\nthe\\\\nuniverse\\\\nIn\\\\nthe\\\\nheart\\\\nof\\\\nthe\\\\ncosmic\\\\nexpanse,\\\\nbeyond\\\\nthe\\\\nmortal\\\\nrealm,\\\\nlies\\\\nthe\\\\nenigmatic\\\\nAetherium,\\\\na\\\\nrealm\\\\nof\\\\nboundless\\\\npotential\\\\nwhere\\\\nprimordial\\\\nenergies\\\\nconverge\\\\nand\\\\nintermingle.\\\\nHere,\\\\nin\\\\nthe\\\\never-shifting\\\\ntapestry\\\\nof\\\\nthe\\\\nuniverse,\\\\nthe\\\\nfirst\\\\nspirits\\\\nawakened.\\\\nThey\\\\nwere\\\\nluminous\\\\nentities,\\\\nradiant\\\\nand\\\\nshapeless,\\\\nbirthed\\\\nfrom\\\\nthe\\\\namalgamation\\\\nof\\\\nelemental\\\\nforces,\\\\ncosmic\\\\nenergies,\\\\nand\\\\nthe\\\\ncollective\\\\nconsciousness\\\\nof\\\\nthe\\\\ncosmos.\\\\nThe\\\\nAetherium,\\\\na\\\\nrealm\\\\nof\\\\ninfinite\\\\npossibilities,\\\\npulsed\\\\nwith\\\\nthe\\\\nheartbeat\\\\nof\\\\ncreation.\\\\nWithin\\\\nits\\\\nethereal\\\\nembrace,\\\\nthe\\\\nspirits\\\\ndanced\\\\nand\\\\ncoalesced,\\\\nforging\\\\na\\\\nsymphony\\\\nof\\\\nexistence.\\\\nTheir\\\\npresence\\\\ntranscended\\\\nthe\\\\nlimitations\\\\nof\\\\ntime\\\\nand\\\\nspace,\\\\nembodying\\\\nthe\\\\nvery\\\\nessence\\\\nof\\\\nthe\\\\ncosmos\\\\nitself.\\\\nAs\\\\nthe\\\\nspirits\\\\nevolved\\\\nwithin\\\\nthe\\\\nAetherium,\\\\nthey\\\\nbegan\\\\nto\\\\ndevelop\\\\ndistinct\\\\npersonalities\\\\nand\\\\naffinities.\\\\nSome\\\\nwere\\\\ndrawn\\\\nto\\\\nthe\\\\nfiery\\\\ntempests\\\\nthat\\\\nraged\\\\nacross\\\\nthe\\\\nAetherium\\'s\\\\nhorizons,\\\\nbecoming\\\\nliving\\\\nembodiments\\\\nof\\\\nthe\\\\nelement\\\\nof\\\\nfire.\\\\nOthers,\\\\nlured\\\\nby\\\\nthe\\\\ntranquil\\\\nembrace\\\\nof\\\\nthe\\\\nAetherium\\'s\\\\nflowing\\\\ncurrents,\\\\nformed\\\\na\\\\ndeep\\\\nconnection\\\\nwith\\\\nwater.\\\\nEarth\\\\nspirits,\\\\ndrawn\\\\nby\\\\nthe\\\\nprofound\\\\nstillness\\\\nof\\\\nthe\\\\nrealm,\\\\nmanifested\\\\ntheir\\\\nessence\\\\nfrom\\\\nthe\\\\nvery\\\\nground\\\\nthey\\\\ntrod\\\\nupon,\\\\nwhile\\\\nthe\\\\nair\\\\nspirits\\\\ndanced\\\\nthrough\\\\nthe\\\\ngales\\\\nof\\\\nthe\\\\nAetherium.\\\\nThe\\\\nspirits\\'\\\\nethereal\\\\nconnection\\\\nwith\\\\nthe\\\\ncosmos\\\\nallowed\\\\nthem\\\\nto\\\\ntraverse\\\\nthe\\\\ncelestial\\\\nrealms,\\\\ntranscending\\\\nthe\\\\nboundaries\\\\nbetween\\\\nthe\\\\nAetherium\\\\nand\\\\nthe\\\\nmortal\\\\nworld.\\\\nThey\\\\nwove\\\\ncosmic\\\\nthreads\\\\ninto\\\\nthe\\\\ntapestry\\\\nof\\\\nreality,\\\\nguiding\\\\nthe\\\\nflow\\\\nof\\\\ntime,\\\\nthe\\\\nlaws\\\\nof\\\\ngravity,\\\\nand\\\\nthe\\\\nvery\\\\nessence\\\\nof\\\\ncreation.\\\\nAs\\\\nthey\\\\nventured\\\\ninto\\\\nthe\\\\nrealms\\\\nof\\\\nmortals,\\\\nthe\\\\nspirits\\\\nbestowed\\\\ntheir\\\\nblessings\\\\nupon\\\\nsentient\\\\nbeings,\\\\nnurturing\\\\nthe\\\\ngrowth\\\\nof\\\\ncivilizations\\\\nand\\\\ninspiring\\\\nawe\\\\nand\\\\nreverence.\\\\nIn\\\\nthe\\\\nmortal\\\\nrealm,\\\\nhumans,\\\\nelves,\\\\nand\\\\nother\\\\nsentient\\\\nraces,\\\\nrecognizing\\\\nthe\\\\nspirits\\'\\\\nprofound\\\\ninfluence,\\\\nrevered\\\\nthem\\\\nas\\\\ndivine\\\\nentities.\\\\nThe\\\\nspirits\\\\nbecame\\\\ngods,\\\\nguardians\\\\nof\\\\nthe\\\\nworld\\\\nand\\\\nthe\\\\nbearers\\\\nof\\\\ncelestial\\\\nmagic.\\\\nTheir\\\\nstories,\\\\nmyths,\\\\nand\\\\nlegends\\\\nshaped\\\\nthe\\\\ncultures\\\\nand\\\\nbelief\\\\nsystems\\\\nof\\\\nthe\\\\nmortal\\\\nrealm,\\\\noffering\\\\nguidance\\\\nand\\\\nwisdom\\\\nto\\\\nthose\\\\nwho\\\\nsought\\\\ntheir\\\\nfavor.\\\\nAs\\\\nthe\\\\nspirits\\\\ngrew\\\\nin\\\\npower,\\\\nthey\\\\nestablished\\\\na\\\\ncelestial\\\\nhierarchy,\\\\nwith\\\\nthe\\\\nmost\\\\ninfluential\\\\namong\\\\nthem\\\\nascending\\\\nto\\\\nthe\\\\npositions\\\\nof\\\\nlords\\\\nand\\\\nguardians.\\\\nCelestial\\\\nbeings\\\\nof\\\\nunparalleled\\\\nstrength\\\\nwatched\\\\nover\\\\nthe\\\\nnatural\\\\nworld,\\\\nensuring\\\\nthe\\\\ndelicate\\\\nbalance\\\\nof\\\\nnature\\\\nand\\\\nthe\\\\nharmonious\\\\ninterplay\\\\nof\\\\ncosmic\\\\nforces.\\\\nOver\\\\nmillennia,\\\\nas\\\\nthe\\\\ntides\\\\nof\\\\ncivilization\\\\nebbed\\\\nand\\\\nflowed,\\\\nthe\\\\ndirect\\\\ninfluence\\\\nof\\\\nthe\\\\nspirits\\\\nwaned,\\\\nand\\\\ntheir\\\\nexistence\\\\ntransformed\\\\ninto\\\\na\\\\nrealm\\\\nof\\\\nlegends\\\\nand\\\\nlore.\\\\nYet,\\\\nwithin\\\\nthe\\\\nhearts\\\\nof\\\\nthose\\\\nwho\\\\nremembered,\\\\nthe\\\\nspirits\\\\nremained\\\\nas\\\\ncelestial\\\\nbeacons,\\\\ntheir\\\\nexistence\\\\nan\\\\neverlasting\\\\ntestament\\\\nto\\\\nthe\\\\nprofound\\\\nconnection\\\\nbetween\\\\nthe\\\\ncosmos\\\\nand\\\\nthe\\\\nmortal\\\\nrealm.\\\\nThe\\\\norigin\\\\nstory\\\\nof\\\\nthe\\\\nspirits\\\\nand\\\\ngods\\\\nweaves\\\\na\\\\ntapestry\\\\nof\\\\nmyth\\\\nand\\\\ncosmic\\\\nwonder,\\\\nan\\\\node\\\\nto\\\\nthe\\\\nintricate\\\\ndance\\\\nof\\\\ncreation\\\\nand\\\\nthe\\\\nethereal\\\\nbeings\\\\nthat\\\\nemerged\\\\nfrom\\\\nthe\\\\nvery\\\\nessence\\\\nof\\\\nthe\\\\nuniverse.\\\\nIt\\\\nstands\\\\nas\\\\na\\\\ntestament\\\\nto\\\\nthe\\\\nenduring\\\\nbond\\\\nbetween\\\\nthe\\\\ncelestial\\\\nand\\\\nmortal\\\\nrealms,\\\\nwaiting\\\\nto\\\\nbe\\\\nunveiled\\\\nonce\\\\nmore\\\\nin\\\\nthe\\\\nepic\\\\ntale\\\\nthat\\\\nlies\\\\nahead.\" metadata={\\'source\\': \\'C:/Users/vedch/Downloads/Story.pdf\\', \\'page\\': 0}'),\n",
       " Document(page_content=\"page_content='While\\\\nthe\\\\nInfernal\\\\nTenebris\\\\nslumbered\\\\nin\\\\nthe\\\\nAbyssal\\\\nMaw,\\\\ntheir\\\\nsinister\\\\ninfluence\\\\nremained,\\\\nand\\\\ntheir\\\\nreturn\\\\nto\\\\nthe\\\\nmortal\\\\nrealm\\\\nwas\\\\nbut\\\\na\\\\nmatter\\\\nof\\\\ntime,\\\\nfor\\\\nthe\\\\nembers\\\\nof\\\\ntheir\\\\nmalevolence\\\\nsmoldered\\\\neternally.\\\\nIt\\\\nwas\\\\nin\\\\nthis\\\\ntapestry\\\\nof\\\\ncosmic\\\\nstruggle\\\\nthat\\\\nthe\\\\nworld\\\\nof\\\\nmortals\\\\nfound\\\\nits\\\\nplace,\\\\ncaught\\\\nbetween\\\\nthe\\\\ncelestial\\\\nlight\\\\nof\\\\nthe\\\\ngods\\\\nand\\\\nthe\\\\nmalevolent\\\\nshadows\\\\nof\\\\nthe\\\\nInfernal\\\\nTenebris.\\\\nThe\\\\nspirits,\\\\nborn\\\\nfrom\\\\nthe\\\\ncosmos\\\\nitself,\\\\nwatched\\\\nover\\\\nthis\\\\nintricate\\\\ninterplay,\\\\nholding\\\\nthe\\\\nkey\\\\nto\\\\nmaintaining\\\\nthe\\\\nbalance\\\\nbetween\\\\nlight\\\\nand\\\\ndarkness.\\\\nAnd\\\\nso,\\\\nthe\\\\nstage\\\\nwas\\\\nset\\\\nfor\\\\nan\\\\nageless\\\\nsaga,\\\\nwhere\\\\nthe\\\\ndestinies\\\\nof\\\\nmortals,\\\\nspirits,\\\\ngods,\\\\nand\\\\ndevils\\\\nwould\\\\nintertwine\\\\nin\\\\na\\\\ntimeless\\\\ndance\\\\nof\\\\ncosmic\\\\nforces,\\\\nushering\\\\nin\\\\neras\\\\nof\\\\npeace\\\\nand\\\\nchaos,\\\\ncreation\\\\nand\\\\ndestruction.\\\\nThis\\\\nwas\\\\nthe\\\\nstory\\\\nof\\\\nthe\\\\nuniverse,\\\\nwhere\\\\nlight\\\\nand\\\\ndarkness\\\\nwould\\\\neternally\\\\nvie\\\\nfor\\\\ndominance,\\\\nand\\\\nwhere\\\\nthe\\\\nhearts\\\\nof\\\\nmortals\\\\nwould\\\\nhold\\\\nthe\\\\npower\\\\nto\\\\nshape\\\\nthe\\\\nfate\\\\nof\\\\nall.' metadata={'source': 'C:/Users/vedch/Downloads/Story.pdf', 'page': 6}\"),\n",
       " Document(page_content='page_content=\\'Erebus,\\\\nthe\\\\nBringer\\\\nof\\\\nDusk,\\\\nmaterialized\\\\nat\\\\nthe\\\\ntwilight\\\\\\'s\\\\nthreshold.\\\\nHis\\\\npresence\\\\nbridged\\\\nthe\\\\ndivide\\\\nbetween\\\\nday\\\\nand\\\\nnight,\\\\nand\\\\nhis\\\\nrealm\\\\nwas\\\\none\\\\nof\\\\ntwilight\\\\nand\\\\nambiguity.\\\\nHis\\\\nmotto,\\\\n\"In\\\\nthe\\\\nthreshold\\\\nbetween\\\\nday\\\\nand\\\\nnight,\\\\nI\\\\ndwell,\"\\\\nspoke\\\\nto\\\\nhis\\\\nrole\\\\nas\\\\nthe\\\\ncosmic\\\\nbalance.\\\\nFinally,\\\\nHarmonia,\\\\nthe\\\\nDivine\\\\nHarmonizer,\\\\nemerged\\\\nas\\\\nthe\\\\nembodiment\\\\nof\\\\npeace\\\\nand\\\\nunity.\\\\nHer\\\\npowers\\\\nallowed\\\\nher\\\\nto\\\\npacify\\\\nconflicts\\\\nand\\\\nfoster\\\\nharmony.\\\\nHer\\\\nmotto,\\\\n\"In\\\\nunity,\\\\nthere\\\\nis\\\\nstrength\\\\nand\\\\nserenity,\"\\\\nconveyed\\\\nher\\\\ncommitment\\\\nto\\\\nbringing\\\\nbalance\\\\nand\\\\nserenity\\\\nto\\\\nthe\\\\nuniverse.\\\\nAs\\\\nthis\\\\npantheon\\\\nof\\\\ncosmic\\\\ndeities\\\\nshaped\\\\nthe\\\\ncosmos,\\\\nthey\\\\nproclaimed\\\\ntheir\\\\nmottoes,\\\\neach\\\\nechoing\\\\nwith\\\\nthe\\\\nresonance\\\\nof\\\\ntheir\\\\ndivine\\\\npurpose.\\\\nFrom\\\\nthe\\\\nheavens\\\\nto\\\\nthe\\\\ndepths\\\\nof\\\\nthe\\\\noceans,\\\\nfrom\\\\nthe\\\\npassage\\\\nof\\\\ntime\\\\nto\\\\nthe\\\\nenigmatic\\\\nshadows\\\\nof\\\\nthe\\\\nnight,\\\\nthese\\\\ndeities\\\\ngoverned\\\\nthe\\\\ncosmos,\\\\nensuring\\\\nthat\\\\nall\\\\naspects\\\\nof\\\\nexistence\\\\nwere\\\\nin\\\\nperfect\\\\nharmony.They\\\\nwere\\\\n“The\\\\nEternal\\\\nArchitects”\\' metadata={\\'source\\': \\'C:/Users/vedch/Downloads/Story.pdf\\', \\'page\\': 4}')]"
      ]
     },
     "execution_count": 17,
     "metadata": {},
     "output_type": "execute_result"
    }
   ],
   "source": [
    "retriever = vectorstore.as_retriever()\n",
    "retriever.invoke(\"machine learning\")"
   ]
  },
  {
   "cell_type": "code",
   "execution_count": 18,
   "metadata": {},
   "outputs": [],
   "source": [
    "from operator import itemgetter\n",
    "\n",
    "chain = (\n",
    "    {\n",
    "        \"context\": itemgetter(\"question\") | retriever,\n",
    "        \"question\": itemgetter(\"question\"),\n",
    "    }\n",
    "    | prompt\n",
    "    | model\n",
    "    | parser\n",
    ")"
   ]
  },
  {
   "cell_type": "code",
   "execution_count": null,
   "metadata": {},
   "outputs": [],
   "source": []
  },
  {
   "cell_type": "code",
   "execution_count": 19,
   "metadata": {},
   "outputs": [
    {
     "name": "stdout",
     "output_type": "stream",
     "text": [
      "Question: What is the purpose of the course?\n",
      "Answer: Based on the provided text, the purpose of the course seems to be to introduce students to the concept of cosmic deities and their role in maintaining balance and harmony within the universe. The course aims to provide students with an understanding of these divine beings, their motivations, and their influence on various aspects of existence.\n",
      "\n",
      "The text mentions that the course will cover the following topics:\n",
      "\n",
      "1. The Spirit Council: This part of the course will focus on the cosmic deities known as the Spirit Council, their role in maintaining balance and harmony within the universe, and their governance over different aspects of existence.\n",
      "2. The Celestial Lords: The course will also delve into the realm of the celestial lords, their influence on the material world, and their role in shaping the cosmos.\n",
      "3. Erebus, the Bringer of Dusk: This section of the course will introduce students to Erebus, the bringer of dusk, who represents the threshold between day and night and serves as a bridge between the two.\n",
      "4. Harmonia, the Divine Harmonizer: The course will also explore the realm of Harmonia, the divine harmonizer, who embodies peace and unity, and her role in fostering harmony within the universe.\n",
      "5. Mottoes and Resonance: The course will examine the mottoes of each deity, which echo with their divine purpose, and the resonance they hold within their respective realms.\n",
      "\n",
      "Overall, the purpose of the course seems to be to provide students with a comprehensive understanding of the cosmic deities and their role in shaping the universe, as well as the balance and harmony they strive to maintain.\n",
      "\n"
     ]
    }
   ],
   "source": [
    "questions = [\n",
    "    \"What is the purpose of the course?\",\n",
    "]\n",
    "\n",
    "for question in questions:\n",
    "    print(f\"Question: {question}\")\n",
    "    print(f\"Answer: {chain.invoke({'question': question})}\")\n",
    "    print()"
   ]
  },
  {
   "cell_type": "code",
   "execution_count": 20,
   "metadata": {},
   "outputs": [
    {
     "data": {
      "text/plain": [
       "['The purpose of the cosmic deities course appears to be to educate students about various aspects of existence and the interconnectedness of all things in the universe. The course covers a wide range of topics, including the nature of time, space, gravity, and the celestial realms, as well as the roles and responsibilities of the cosmic deities in maintaining balance and harmony throughout the cosmos.\\n\\nThroughout the course, students learn about the different aspects of existence that are governed by each of the twelve seats on the Spirit Council, which represents the interests of the spirits in their celestial endeavors. The course also explores the mottoes of each deity, which convey their divine purpose and commitment to bringing balance and serenity to the universe.\\n\\nOverall, the purpose of the course seems to be twofold: firstly, to provide students with a comprehensive understanding of the nature of existence and the role of the cosmic deities in shaping it; secondly, to inspire students to reflect on their own purposes and responsibilities as individuals within the greater cosmic context. By exploring these themes and ideas, the course aims to foster a deeper appreciation for the interconnectedness of all things and the importance of harmony and balance in the universe.']"
      ]
     },
     "execution_count": 20,
     "metadata": {},
     "output_type": "execute_result"
    }
   ],
   "source": [
    "chain.batch([{\"question\": q} for q in questions])"
   ]
  },
  {
   "cell_type": "code",
   "execution_count": 21,
   "metadata": {},
   "outputs": [
    {
     "name": "stdout",
     "output_type": "stream",
     "text": [
      "The purpose of the course is to provide a comprehensive overview of the cosmic pantheon of deities in the story, including their roles, responsibilities, and motivations. The course aims to explore the various aspects of the cosmos and the divine beings that govern it, highlighting their importance in maintaining balance and harmony within the universe.\n",
      "\n",
      "Throughout the course, students will learn about the different aspects of the cosmic pantheon, including their origins, motivations, and actions. They will also gain an understanding of how these deities interact with each other and with mortal beings, and how they shape the cosmos through their influence.\n",
      "\n",
      "By the end of the course, students will have a deep understanding of the complex and intricate nature of the cosmic pantheon, as well as its relevance to the broader context of the story. They will also develop critical thinking skills, as they analyze and interpret the various aspects of the cosmos and its inhabitants.\n",
      "\n",
      "Overall, the purpose of the course is to provide a comprehensive introduction to the world of the story, highlighting the key players and their roles in shaping the cosmos and maintaining balance within it."
     ]
    }
   ],
   "source": [
    "for s in chain.stream({\"question\": \"What is the purpose of the course?\"}):\n",
    "    print(s, end=\"\", flush=True)"
   ]
  },
  {
   "cell_type": "code",
   "execution_count": 22,
   "metadata": {},
   "outputs": [
    {
     "name": "stdout",
     "output_type": "stream",
     "text": [
      "Defaulting to user installation because normal site-packages is not writeableNote: you may need to restart the kernel to use updated packages.\n",
      "\n",
      "Requirement already satisfied: bs4 in c:\\users\\vedch\\appdata\\local\\packages\\pythonsoftwarefoundation.python.3.12_qbz5n2kfra8p0\\localcache\\local-packages\\python312\\site-packages (0.0.2)\n",
      "Requirement already satisfied: beautifulsoup4 in c:\\users\\vedch\\appdata\\local\\packages\\pythonsoftwarefoundation.python.3.12_qbz5n2kfra8p0\\localcache\\local-packages\\python312\\site-packages (from bs4) (4.12.3)\n",
      "Requirement already satisfied: soupsieve>1.2 in c:\\users\\vedch\\appdata\\local\\packages\\pythonsoftwarefoundation.python.3.12_qbz5n2kfra8p0\\localcache\\local-packages\\python312\\site-packages (from beautifulsoup4->bs4) (2.5)\n"
     ]
    }
   ],
   "source": [
    "%pip install bs4"
   ]
  },
  {
   "cell_type": "code",
   "execution_count": 23,
   "metadata": {},
   "outputs": [
    {
     "data": {
      "text/plain": [
       "[Document(page_content='Building Machine Learning Systems That Don\\'t Suck\"This is the best machine learning course I\\'ve done. Worth every cent.\"Jose Reyes, AI/ML at Cevo AustraliaBuilding Machine Learning Systems That Don\\'t SuckA live, interactive program that\\'ll help you build production-ready machine learning systems from the ground up.Next cohort:\\xa0July 1 - 18, 2024Check the schedule for more details about upcoming cohorts.I want to join!Sign inLearn how to design, build, deploy, and scale machine learning systems to solve real-world problems.I\\'ll lose my mind if I see another book or course teaching people the same basic ideas for the hundredth time. Most people are stuck in beginner mode, and finding help to solve real-world problems is hard.I want to change that.I started writing software 30 years ago. I\\'ve written pipelines and trained models for some of the largest companies in the world. I want to show you how to do the same.This is the class I wish I had taken when I started.This program will help', metadata={'source': 'https://www.ml.school', 'title': \"Building Machine Learning Systems That Don't Suck\", 'description': \"A live, interactive program that'll help you build production-ready machine learning systems from the ground up.\", 'language': 'en'}),\n",
       " Document(page_content=\"written pipelines and trained models for some of the largest companies in the world. I want to show you how to do the same.This is the class I wish I had taken when I started.This program will help you unlearn what you think machine learning is. It's a practical, hands-on class where you'll learn from years of experience and real-world examples.When you join, you get lifetime access to the following:18 hours of live, interactive sessions. We'll use this time to discuss the first principles behind building machine learning systems.10 hours of step-by-step coding instructions. These practical sessions will show you how to build an end-to-end system from scratch.A final project where you'll build a complete solution and receive direct feedback on your work.100 coding assignments and practice questions.The entire source code of a working production system. It's yours. You can change and use it as you see fit.A private community where you'll collaborate with thousands of people from\", metadata={'source': 'https://www.ml.school', 'title': \"Building Machine Learning Systems That Don't Suck\", 'description': \"A live, interactive program that'll help you build production-ready machine learning systems from the ground up.\", 'language': 'en'}),\n",
       " Document(page_content=\"questions.The entire source code of a working production system. It's yours. You can change and use it as you see fit.A private community where you'll collaborate with thousands of people from different backgrounds.Direct access to your instructor.Lifetime access to every past and future cohort.Program certificate upon completion.And the best part is that you only pay once to join. There are no monthly fees. No annual fees. No hidden costs. You pay once to join and benefit forever until the end of time.The program won't be easy. It'll take time and effort. But if you want to use machine learning to solve real-world problems, this is the class you don't want to miss.Who Is This Program For?This is a practical, hands-on program for technical professionals who are ready to put in the work.This program is for software engineers, data scientists, data analysts, machine learning engineers, technical managers, and anyone anyone who wants to use machine learning to solve real-world\", metadata={'source': 'https://www.ml.school', 'title': \"Building Machine Learning Systems That Don't Suck\", 'description': \"A live, interactive program that'll help you build production-ready machine learning systems from the ground up.\", 'language': 'en'}),\n",
       " Document(page_content='work.This program is for software engineers, data scientists, data analysts, machine learning engineers, technical managers, and anyone anyone who wants to use machine learning to solve real-world problems.Here are the criteria to succeed in the program:You have experience writing code. We\\'ll use Python throughout the class, but you won\\'t have any problems if you know any other language.You are familiar with basic machine learning terminology. This is not an introductory class. We\\'ll move quickly over the basics to focus on the fundamental ideas that make systems work.You are ready to put in the work to succeed.\"I have learned a ton from Santiago in his class and it was actually what helped inspire me and get into the MLOps work that I\\'m doing now. Truly one of the most helpful online courses for doing real, full-scale machine learning.\"Brian H. HoughSoftware EngineerWhat Will You Learn?You\\'ll come out with practical skills and insights into what it takes to build systems that work in', metadata={'source': 'https://www.ml.school', 'title': \"Building Machine Learning Systems That Don't Suck\", 'description': \"A live, interactive program that'll help you build production-ready machine learning systems from the ground up.\", 'language': 'en'}),\n",
       " Document(page_content='for doing real, full-scale machine learning.\"Brian H. HoughSoftware EngineerWhat Will You Learn?You\\'ll come out with practical skills and insights into what it takes to build systems that work in the real world.Here is a summary of what makes this program unique:You\\'ll design and write the code to build an end-to-end machine learning system starting from scratch.You\\'ll learn best practices to tackle the most significant challenges machine learning engineers face to build, evaluate, run, monitor, and maintain machine learning systems in real-world scenarios.You\\'ll learn how to use techniques like active learning, distributed training, adversarial validation, human-in-the-loop deployments, model compression, test-time augmentation, testing in production, among many others.You\\'ll learn how to create training, deploying, monitoring, and inference pipelines using Amazon SageMaker and open-source tools.Forget about theoretical concepts. This program will show you some of the things I\\'ve', metadata={'source': 'https://www.ml.school', 'title': \"Building Machine Learning Systems That Don't Suck\", 'description': \"A live, interactive program that'll help you build production-ready machine learning systems from the ground up.\", 'language': 'en'}),\n",
       " Document(page_content=\"to create training, deploying, monitoring, and inference pipelines using Amazon SageMaker and open-source tools.Forget about theoretical concepts. This program will show you some of the things I've learned from real-life examples I've built during more than 30 years in the industry.Check the program syllabus\\xa0→Real-life examples and case studiesLearn from practical experience building machine learning systems that work in the real world.Live, interactive sessionsAsk questions and interact with the instructor and other students in real time.Code walkthroughsStep by step coding instructions to help you build a production system from scratch.Upcoming ScheduleEvery iteration of the program gives you 18 hours of hands-on, live training spread over 3 weeks.Here are the upcoming cohorts:Cohort 14: July 1 - July 18, 2024. 10:00 AM GMT+2Cohort 15: August 5 - August 22, 2024. 10:00 AM EDTLive sessions will take place every Monday and Thursday at the same time. On Wednesdays, we'll host office\", metadata={'source': 'https://www.ml.school', 'title': \"Building Machine Learning Systems That Don't Suck\", 'description': \"A live, interactive program that'll help you build production-ready machine learning systems from the ground up.\", 'language': 'en'}),\n",
       " Document(page_content='14: July 1 - July 18, 2024. 10:00 AM GMT+2Cohort 15: August 5 - August 22, 2024. 10:00 AM EDTLive sessions will take place every Monday and Thursday at the same time. On Wednesdays, we\\'ll host office hours when you can bring your questions projects or anything else you want to discuss.Monday: Live session. 2 hours.Tuesday: Individual work.Wednesday: Optional office hours.Thursday: Live session. 2 hours.Friday: Individual work.Do not wait for a specific cohort to join the program. You have lifetime access to every past and future cohort, and the sooner you join, the more time you have to prepare.Every session is recorded. You can attend live or watch the recorded version later.\"This is one of the best classes I\\'ve ever purchased over the internet. Santiago is a terrific teacher. The ability he has to share knowledge is fantastic. I recommend this course. Worth 10x what he\\'s charging.\"Sal DiStefanoReady To Join The Program?You\\'ll get lifetime access. No monthly fees. No annual fees. No', metadata={'source': 'https://www.ml.school', 'title': \"Building Machine Learning Systems That Don't Suck\", 'description': \"A live, interactive program that'll help you build production-ready machine learning systems from the ground up.\", 'language': 'en'}),\n",
       " Document(page_content='he has to share knowledge is fantastic. I recommend this course. Worth 10x what he\\'s charging.\"Sal DiStefanoReady To Join The Program?You\\'ll get lifetime access. No monthly fees. No annual fees. No hidden costs.$450$200Pay once. Access forever.Pay once to join the program and get lifetime access. You can participate in as many iterations as you\\'d like. No restrictions.Enjoy 18 hours of live, interactive sessionsWatch 10 hours of step-by-step coding instructionsPractice with 100 coding assignmentsAccess the complete source code of a production systemLearn how to start freelancing on UpworkGet feedback and support from the communityGet direct feedback from your instructorJoin nowProgram SyllabusThis program will teach you the practical skills and insights that will help you build machine learning systems.Here are the contents of the six live sessions of the program:Session 1 - How To Start (Almost) Any ProjectWhat makes production machine learning different from what you\\'ve learned.The', metadata={'source': 'https://www.ml.school', 'title': \"Building Machine Learning Systems That Don't Suck\", 'description': \"A live, interactive program that'll help you build production-ready machine learning systems from the ground up.\", 'language': 'en'}),\n",
       " Document(page_content=\"systems.Here are the contents of the six live sessions of the program:Session 1 - How To Start (Almost) Any ProjectWhat makes production machine learning different from what you've learned.The strategy to solve the right problem using the right solution.Critical questions to ask before starting any project.Problem framing, inversion, and the haystack principle for building successful applications.The first rule of machine learning engineering and how to start building.Data collection strategies. A technique to determine how much data you need.The problem of selection bias and how to deal with it.Labeling data. Human annotations, natural labels and weak supervision.Active learning using the uncertainty and diversity sampling strategies.Session 2 - How to Build a ModelThe role of data cleaning and feature engineering to build better models.Turning data into numbers using vectorization techniques.Producing homogeneous features using normalization and standardization.Handling and\", metadata={'source': 'https://www.ml.school', 'title': \"Building Machine Learning Systems That Don't Suck\", 'description': \"A live, interactive program that'll help you build production-ready machine learning systems from the ground up.\", 'language': 'en'}),\n",
       " Document(page_content='cleaning and feature engineering to build better models.Turning data into numbers using vectorization techniques.Producing homogeneous features using normalization and standardization.Handling and interpreting missing values using imputation techniques.The approach to choosing the best model to solve any problem.Random baselines and the zero-rule algorithm.How to use overfitting to build models that don\\'t suck.Hyperparameter tuning and experiment tracking.Measuring the quality of your holdout set.An introduction to distributed training using data parallelism and model parallelism.See the remaining sessions\"This is an awesome course! This is my second round and I continue learning. I recommend it with complete confidence.\"Juan OlanoMachine Learning EngineerFrequently Asked QuestionsIf you can\\'t find the answer to your question, please reach out on social media and I\\'ll be happy to help.How long will it take to complete the program?If you are attending the live sessions, you should set', metadata={'source': 'https://www.ml.school', 'title': \"Building Machine Learning Systems That Don't Suck\", 'description': \"A live, interactive program that'll help you build production-ready machine learning systems from the ground up.\", 'language': 'en'}),\n",
       " Document(page_content='can\\'t find the answer to your question, please reach out on social media and I\\'ll be happy to help.How long will it take to complete the program?If you are attending the live sessions, you should set aside a minimum of 4 hours every week during the three weeks of the program. This commitment will be enough for engineer leaders or anyone not interested in the coding portion of the program.Those interested in implementing the concepts discussed in class should set aside 2 to 4 hours weekly to complete the code walkthroughs and work on the assignments.Are live sessions recorded?Yes, we record every live session. You can decide when to attend classes live or catch up asynchronously later using the recording.I\\'m a complete beginner. Is this program helpful for me?This program is not an introduction to machine learning.While we\\'ll discuss many fundamental ideas behind machine learning, beginners will find the sessions go much faster than what\\'s optimal for them.What does \"lifetime access\"', metadata={'source': 'https://www.ml.school', 'title': \"Building Machine Learning Systems That Don't Suck\", 'description': \"A live, interactive program that'll help you build production-ready machine learning systems from the ground up.\", 'language': 'en'}),\n",
       " Document(page_content='to machine learning.While we\\'ll discuss many fundamental ideas behind machine learning, beginners will find the sessions go much faster than what\\'s optimal for them.What does \"lifetime access\" mean?You only pay once to join the program and get immediate access to every past, present, and future cohort.Every new iteration of the program is better than the ones before. Many students take classes once and then join a later cohort to benefit from the updates.The lifetime access removes any pressure from having to complete the program when life gets in the way.Hey! I\\'m Santiago.I\\'m the instructor of the program.I\\'m a machine learning engineer with over two decades of experience building and scaling enterprise software and machine learning systems.I love neural networks. I love to make them work at scale.From 2009 to 2023, I built products for Disney, Boston Dynamics, IBM, Dell, G4S, Anheuser-Busch, and NextEra Energy, among other clients. I learned about trade-offs and how to create', metadata={'source': 'https://www.ml.school', 'title': \"Building Machine Learning Systems That Don't Suck\", 'description': \"A live, interactive program that'll help you build production-ready machine learning systems from the ground up.\", 'language': 'en'}),\n",
       " Document(page_content=\"work at scale.From 2009 to 2023, I built products for Disney, Boston Dynamics, IBM, Dell, G4S, Anheuser-Busch, and NextEra Energy, among other clients. I learned about trade-offs and how to create products that work.I started this program in March 2023. Since then, thousands of students have graduated, and I can't wait to meet you in class.Copyright © 2024 Tideily LLCAll rights reserved.\", metadata={'source': 'https://www.ml.school', 'title': \"Building Machine Learning Systems That Don't Suck\", 'description': \"A live, interactive program that'll help you build production-ready machine learning systems from the ground up.\", 'language': 'en'})]"
      ]
     },
     "execution_count": 23,
     "metadata": {},
     "output_type": "execute_result"
    }
   ],
   "source": [
    "from langchain_community.document_loaders import WebBaseLoader\n",
    "from langchain_text_splitters import RecursiveCharacterTextSplitter\n",
    "\n",
    "loader = WebBaseLoader(\"https://www.ml.school\")\n",
    "docs = loader.load()\n",
    "documents = RecursiveCharacterTextSplitter(chunk_size=1000, chunk_overlap=200).split_documents(docs)\n",
    "\n",
    "documents"
   ]
  },
  {
   "cell_type": "code",
   "execution_count": 26,
   "metadata": {},
   "outputs": [],
   "source": [
    "from operator import itemgetter\n",
    "\n",
    "chain = (\n",
    "    {\n",
    "        \"context\": itemgetter(\"question\") | retriever,\n",
    "        \"question\": itemgetter(\"question\"),\n",
    "    }\n",
    "    | prompt\n",
    "    | model\n",
    "    | parser\n",
    ")"
   ]
  },
  {
   "cell_type": "code",
   "execution_count": null,
   "metadata": {},
   "outputs": [],
   "source": []
  }
 ],
 "metadata": {
  "kernelspec": {
   "display_name": "Python 3 (ipykernel)",
   "language": "python",
   "name": "python3"
  },
  "language_info": {
   "codemirror_mode": {
    "name": "ipython",
    "version": 3
   },
   "file_extension": ".py",
   "mimetype": "text/x-python",
   "name": "python",
   "nbconvert_exporter": "python",
   "pygments_lexer": "ipython3",
   "version": "3.11.7"
  }
 },
 "nbformat": 4,
 "nbformat_minor": 4
}
